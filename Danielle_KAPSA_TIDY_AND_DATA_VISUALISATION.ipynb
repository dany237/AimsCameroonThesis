{
  "nbformat": 4,
  "nbformat_minor": 0,
  "metadata": {
    "colab": {
      "name": "TIDY_AND_DATA_VISUALISATION.ipynb",
      "provenance": [],
      "collapsed_sections": []
    },
    "kernelspec": {
      "display_name": "Python 3",
      "name": "python3"
    },
    "language_info": {
      "name": "python"
    }
  },
  "cells": [
    {
      "cell_type": "markdown",
      "metadata": {
        "id": "edHbM1VOzSav"
      },
      "source": [
        "We Build a random forest model to predict the number of total affected records using different features as the company, the source of information, the type of attack, the year and the two formula given in the litterature by Olivier Lopez and Jacob."
      ]
    },
    {
      "cell_type": "code",
      "metadata": {
        "id": "oFRRmF1Fy6Ld"
      },
      "source": [
        ""
      ],
      "execution_count": null,
      "outputs": []
    },
    {
      "cell_type": "markdown",
      "metadata": {
        "id": "IDSO5JYgzuRU"
      },
      "source": [
        "Here we upload our data\n",
        "Source : Privacy Rights ClearingHouse"
      ]
    },
    {
      "cell_type": "code",
      "metadata": {
        "colab": {
          "resources": {
            "http://localhost:8080/nbextensions/google.colab/files.js": {
              "data": "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",
              "headers": [
                [
                  "content-type",
                  "application/javascript"
                ]
              ],
              "ok": true,
              "status": 200,
              "status_text": "OK"
            }
          },
          "base_uri": "https://localhost:8080/",
          "height": 80
        },
        "id": "n46n_yt8jmuL",
        "outputId": "64abd758-1dc1-41b4-d83d-2e549e7018f8"
      },
      "source": [
        "from google.colab import files\n",
        "uploaded = files.upload()"
      ],
      "execution_count": null,
      "outputs": [
        {
          "output_type": "display_data",
          "data": {
            "text/html": [
              "\n",
              "     <input type=\"file\" id=\"files-f7d0bd43-b61f-4bda-b292-e12299d79d9f\" name=\"files[]\" multiple disabled\n",
              "        style=\"border:none\" />\n",
              "     <output id=\"result-f7d0bd43-b61f-4bda-b292-e12299d79d9f\">\n",
              "      Upload widget is only available when the cell has been executed in the\n",
              "      current browser session. Please rerun this cell to enable.\n",
              "      </output>\n",
              "      <script src=\"/nbextensions/google.colab/files.js\"></script> "
            ],
            "text/plain": [
              "<IPython.core.display.HTML object>"
            ]
          },
          "metadata": {
            "tags": []
          }
        },
        {
          "output_type": "stream",
          "text": [
            "Saving m_us_companies_all.csv to m_us_companies_all.csv\n"
          ],
          "name": "stdout"
        }
      ]
    },
    {
      "cell_type": "code",
      "metadata": {
        "colab": {
          "resources": {
            "http://localhost:8080/nbextensions/google.colab/files.js": {
              "data": "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",
              "ok": true,
              "headers": [
                [
                  "content-type",
                  "application/javascript"
                ]
              ],
              "status": 200,
              "status_text": "OK"
            }
          },
          "base_uri": "https://localhost:8080/",
          "height": 80
        },
        "id": "gk6X9uGaxWXB",
        "outputId": "8c9fc1b5-3633-40f5-ff0a-f391d5f740b8"
      },
      "source": [
        "from google.colab import files\n",
        "uploaded = files.upload()"
      ],
      "execution_count": null,
      "outputs": [
        {
          "output_type": "display_data",
          "data": {
            "text/html": [
              "\n",
              "     <input type=\"file\" id=\"files-6b22c056-4e3b-4149-bda4-7ac5a60200e3\" name=\"files[]\" multiple disabled\n",
              "        style=\"border:none\" />\n",
              "     <output id=\"result-6b22c056-4e3b-4149-bda4-7ac5a60200e3\">\n",
              "      Upload widget is only available when the cell has been executed in the\n",
              "      current browser session. Please rerun this cell to enable.\n",
              "      </output>\n",
              "      <script src=\"/nbextensions/google.colab/files.js\"></script> "
            ],
            "text/plain": [
              "<IPython.core.display.HTML object>"
            ]
          },
          "metadata": {
            "tags": []
          }
        },
        {
          "output_type": "stream",
          "text": [
            "Saving donneesencoder.csv to donneesencoder.csv\n"
          ],
          "name": "stdout"
        }
      ]
    },
    {
      "cell_type": "code",
      "metadata": {
        "colab": {
          "resources": {
            "http://localhost:8080/nbextensions/google.colab/files.js": {
              "data": "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",
              "headers": [
                [
                  "content-type",
                  "application/javascript"
                ]
              ],
              "ok": true,
              "status": 200,
              "status_text": "OK"
            }
          },
          "base_uri": "https://localhost:8080/",
          "height": 80
        },
        "id": "HgthQvimRpe-",
        "outputId": "0d437873-d8ef-4ff3-e42f-ae3c4d4dd56e"
      },
      "source": [
        "from google.colab import files\n",
        "uploaded = files.upload()"
      ],
      "execution_count": null,
      "outputs": [
        {
          "output_type": "display_data",
          "data": {
            "text/html": [
              "\n",
              "     <input type=\"file\" id=\"files-a2ad7ea2-094a-4a6b-b714-1a6390ce6292\" name=\"files[]\" multiple disabled\n",
              "        style=\"border:none\" />\n",
              "     <output id=\"result-a2ad7ea2-094a-4a6b-b714-1a6390ce6292\">\n",
              "      Upload widget is only available when the cell has been executed in the\n",
              "      current browser session. Please rerun this cell to enable.\n",
              "      </output>\n",
              "      <script src=\"/nbextensions/google.colab/files.js\"></script> "
            ],
            "text/plain": [
              "<IPython.core.display.HTML object>"
            ]
          },
          "metadata": {
            "tags": []
          }
        },
        {
          "output_type": "stream",
          "text": [
            "Saving PRCBON.csv to PRCBON.csv\n"
          ],
          "name": "stdout"
        }
      ]
    },
    {
      "cell_type": "markdown",
      "metadata": {
        "id": "ItZGtNTZz6MG"
      },
      "source": [
        "We upload our library"
      ]
    },
    {
      "cell_type": "code",
      "metadata": {
        "id": "htrOfvAjlWgR"
      },
      "source": [
        "import pandas as pd   # for data manipulation\n",
        "from sklearn.preprocessing import StandardScaler  # for data standardization\n",
        "from sklearn.cluster import KMeans # for KMeans clustering\n",
        "from sklearn.decomposition import PCA # for dimension reduction\n",
        "import seaborn as sns # data visualization\n",
        "import matplotlib.pyplot as plt # used for plotting \n",
        "import numpy as np # useful for working with arrays\n",
        "from sklearn.model_selection import train_test_split # for data splitting"
      ],
      "execution_count": null,
      "outputs": []
    },
    {
      "cell_type": "code",
      "metadata": {
        "id": "zEcMGvJ-FcGE"
      },
      "source": [
        "data1 = \"m_us_companies_all.csv\"\n",
        "df1 = pd.read_csv(data1, sep= \",\")"
      ],
      "execution_count": null,
      "outputs": []
    },
    {
      "cell_type": "code",
      "metadata": {
        "id": "KHnfzhBPOP_V"
      },
      "source": [
        "df = pd.read_csv(\"donneesencoder.csv\", sep= \"\\t\")"
      ],
      "execution_count": null,
      "outputs": []
    },
    {
      "cell_type": "code",
      "metadata": {
        "id": "jaW1tHQ-xmY9"
      },
      "source": [
        "data = \"PRCBON.csv\"\n",
        "df = pd.read_csv(\"PRCBON.csv\", sep= \";\")"
      ],
      "execution_count": null,
      "outputs": []
    },
    {
      "cell_type": "code",
      "metadata": {
        "colab": {
          "base_uri": "https://localhost:8080/",
          "height": 434
        },
        "id": "7YubYgqsFheH",
        "outputId": "6b815722-35a9-4fb9-f9f5-4c101466d056"
      },
      "source": [
        "df.head()"
      ],
      "execution_count": null,
      "outputs": [
        {
          "output_type": "execute_result",
          "data": {
            "text/html": [
              "<div>\n",
              "<style scoped>\n",
              "    .dataframe tbody tr th:only-of-type {\n",
              "        vertical-align: middle;\n",
              "    }\n",
              "\n",
              "    .dataframe tbody tr th {\n",
              "        vertical-align: top;\n",
              "    }\n",
              "\n",
              "    .dataframe thead th {\n",
              "        text-align: right;\n",
              "    }\n",
              "</style>\n",
              "<table border=\"1\" class=\"dataframe\">\n",
              "  <thead>\n",
              "    <tr style=\"text-align: right;\">\n",
              "      <th></th>\n",
              "      <th>Unnamed: 0</th>\n",
              "      <th>Unnamed: 0.1</th>\n",
              "      <th>Company</th>\n",
              "      <th>Date.Made.Public</th>\n",
              "      <th>Total.Records</th>\n",
              "      <th>Type.of.breach</th>\n",
              "      <th>Type.of.organization</th>\n",
              "      <th>Gather.Information.Source</th>\n",
              "      <th>year</th>\n",
              "      <th>Nb_Employees</th>\n",
              "      <th>Amount1</th>\n",
              "      <th>Amount2</th>\n",
              "    </tr>\n",
              "  </thead>\n",
              "  <tbody>\n",
              "    <tr>\n",
              "      <th>0</th>\n",
              "      <td>0</td>\n",
              "      <td>0</td>\n",
              "      <td>bullitt county public schools</td>\n",
              "      <td>2009-10-21</td>\n",
              "      <td>676.0</td>\n",
              "      <td>DISC</td>\n",
              "      <td>EDU</td>\n",
              "      <td>Nonprofit organization</td>\n",
              "      <td>2009</td>\n",
              "      <td>500</td>\n",
              "      <td>3.062958e+05</td>\n",
              "      <td>5.997271e+05</td>\n",
              "    </tr>\n",
              "    <tr>\n",
              "      <th>1</th>\n",
              "      <td>1</td>\n",
              "      <td>1</td>\n",
              "      <td>roane state community college</td>\n",
              "      <td>2009-10-21</td>\n",
              "      <td>14783.0</td>\n",
              "      <td>PORT</td>\n",
              "      <td>EDU</td>\n",
              "      <td>Nonprofit organization</td>\n",
              "      <td>2009</td>\n",
              "      <td>2687</td>\n",
              "      <td>3.194487e+06</td>\n",
              "      <td>3.480557e+06</td>\n",
              "    </tr>\n",
              "    <tr>\n",
              "      <th>2</th>\n",
              "      <td>2</td>\n",
              "      <td>2</td>\n",
              "      <td>halifax health</td>\n",
              "      <td>2009-10-15</td>\n",
              "      <td>33000.0</td>\n",
              "      <td>PORT</td>\n",
              "      <td>MED</td>\n",
              "      <td>Nonprofit organization</td>\n",
              "      <td>2009</td>\n",
              "      <td>2687</td>\n",
              "      <td>5.881014e+06</td>\n",
              "      <td>5.500942e+06</td>\n",
              "    </tr>\n",
              "    <tr>\n",
              "      <th>3</th>\n",
              "      <td>3</td>\n",
              "      <td>3</td>\n",
              "      <td>suffolk community college</td>\n",
              "      <td>2009-10-04</td>\n",
              "      <td>300.0</td>\n",
              "      <td>DISC</td>\n",
              "      <td>EDU</td>\n",
              "      <td>Nonprofit organization</td>\n",
              "      <td>2009</td>\n",
              "      <td>10</td>\n",
              "      <td>1.651938e+05</td>\n",
              "      <td>3.774359e+05</td>\n",
              "    </tr>\n",
              "    <tr>\n",
              "      <th>4</th>\n",
              "      <td>4</td>\n",
              "      <td>5</td>\n",
              "      <td>eastern kentucky university</td>\n",
              "      <td>2009-09-23</td>\n",
              "      <td>5045.0</td>\n",
              "      <td>DISC</td>\n",
              "      <td>EDU</td>\n",
              "      <td>Nonprofit organization</td>\n",
              "      <td>2009</td>\n",
              "      <td>200</td>\n",
              "      <td>1.411095e+06</td>\n",
              "      <td>1.885884e+06</td>\n",
              "    </tr>\n",
              "  </tbody>\n",
              "</table>\n",
              "</div>"
            ],
            "text/plain": [
              "   Unnamed: 0  Unnamed: 0.1  ...       Amount1       Amount2\n",
              "0           0             0  ...  3.062958e+05  5.997271e+05\n",
              "1           1             1  ...  3.194487e+06  3.480557e+06\n",
              "2           2             2  ...  5.881014e+06  5.500942e+06\n",
              "3           3             3  ...  1.651938e+05  3.774359e+05\n",
              "4           4             5  ...  1.411095e+06  1.885884e+06\n",
              "\n",
              "[5 rows x 12 columns]"
            ]
          },
          "metadata": {
            "tags": []
          },
          "execution_count": 4
        }
      ]
    },
    {
      "cell_type": "code",
      "metadata": {
        "id": "rHitTiCGlaXW"
      },
      "source": [
        "df =df.drop(['Unnamed: 0', 'Unnamed: 0.1'], axis =1)"
      ],
      "execution_count": null,
      "outputs": []
    },
    {
      "cell_type": "code",
      "metadata": {
        "colab": {
          "base_uri": "https://localhost:8080/"
        },
        "id": "hc4hnre1lgOg",
        "outputId": "fcf85107-17d3-4694-c792-0ac11fa64b30"
      },
      "source": [
        "df.shape"
      ],
      "execution_count": null,
      "outputs": [
        {
          "output_type": "execute_result",
          "data": {
            "text/plain": [
              "(5155, 10)"
            ]
          },
          "metadata": {
            "tags": []
          },
          "execution_count": 6
        }
      ]
    },
    {
      "cell_type": "code",
      "metadata": {
        "colab": {
          "base_uri": "https://localhost:8080/"
        },
        "id": "wUqUdgkIli7z",
        "outputId": "90142822-1c75-4d90-d912-65eb5171e828"
      },
      "source": [
        "df1.shape"
      ],
      "execution_count": null,
      "outputs": [
        {
          "output_type": "execute_result",
          "data": {
            "text/plain": [
              "(695, 36)"
            ]
          },
          "metadata": {
            "tags": []
          },
          "execution_count": 16
        }
      ]
    },
    {
      "cell_type": "code",
      "metadata": {
        "colab": {
          "base_uri": "https://localhost:8080/",
          "height": 206
        },
        "id": "FZ3czsDknKbL",
        "outputId": "93db94b5-33e7-4fb6-e185-45633f5752bc"
      },
      "source": [
        "df.head(5)"
      ],
      "execution_count": null,
      "outputs": [
        {
          "output_type": "execute_result",
          "data": {
            "text/html": [
              "<div>\n",
              "<style scoped>\n",
              "    .dataframe tbody tr th:only-of-type {\n",
              "        vertical-align: middle;\n",
              "    }\n",
              "\n",
              "    .dataframe tbody tr th {\n",
              "        vertical-align: top;\n",
              "    }\n",
              "\n",
              "    .dataframe thead th {\n",
              "        text-align: right;\n",
              "    }\n",
              "</style>\n",
              "<table border=\"1\" class=\"dataframe\">\n",
              "  <thead>\n",
              "    <tr style=\"text-align: right;\">\n",
              "      <th></th>\n",
              "      <th>Company</th>\n",
              "      <th>Date.Made.Public</th>\n",
              "      <th>Total.Records</th>\n",
              "      <th>Type.of.breach</th>\n",
              "      <th>Type.of.organization</th>\n",
              "      <th>Gather.Information.Source</th>\n",
              "      <th>year</th>\n",
              "    </tr>\n",
              "  </thead>\n",
              "  <tbody>\n",
              "    <tr>\n",
              "      <th>0</th>\n",
              "      <td>bullitt county public schools</td>\n",
              "      <td>2009-10-21</td>\n",
              "      <td>676</td>\n",
              "      <td>DISC</td>\n",
              "      <td>EDU</td>\n",
              "      <td>Nonprofit organization</td>\n",
              "      <td>2009</td>\n",
              "    </tr>\n",
              "    <tr>\n",
              "      <th>1</th>\n",
              "      <td>roane state community college</td>\n",
              "      <td>2009-10-21</td>\n",
              "      <td>14783</td>\n",
              "      <td>PORT</td>\n",
              "      <td>EDU</td>\n",
              "      <td>Nonprofit organization</td>\n",
              "      <td>2009</td>\n",
              "    </tr>\n",
              "    <tr>\n",
              "      <th>2</th>\n",
              "      <td>halifax health</td>\n",
              "      <td>2009-10-15</td>\n",
              "      <td>33000</td>\n",
              "      <td>PORT</td>\n",
              "      <td>MED</td>\n",
              "      <td>Nonprofit organization</td>\n",
              "      <td>2009</td>\n",
              "    </tr>\n",
              "    <tr>\n",
              "      <th>3</th>\n",
              "      <td>suffolk community college</td>\n",
              "      <td>2009-10-04</td>\n",
              "      <td>300</td>\n",
              "      <td>DISC</td>\n",
              "      <td>EDU</td>\n",
              "      <td>Nonprofit organization</td>\n",
              "      <td>2009</td>\n",
              "    </tr>\n",
              "    <tr>\n",
              "      <th>4</th>\n",
              "      <td>penrose hospital</td>\n",
              "      <td>2009-09-28</td>\n",
              "      <td>175</td>\n",
              "      <td>PHYS</td>\n",
              "      <td>MED</td>\n",
              "      <td>Nonprofit organization</td>\n",
              "      <td>2009</td>\n",
              "    </tr>\n",
              "  </tbody>\n",
              "</table>\n",
              "</div>"
            ],
            "text/plain": [
              "                         Company  ...  year\n",
              "0  bullitt county public schools  ...  2009\n",
              "1  roane state community college  ...  2009\n",
              "2                 halifax health  ...  2009\n",
              "3      suffolk community college  ...  2009\n",
              "4               penrose hospital  ...  2009\n",
              "\n",
              "[5 rows x 7 columns]"
            ]
          },
          "metadata": {
            "tags": []
          },
          "execution_count": 17
        }
      ]
    },
    {
      "cell_type": "code",
      "metadata": {
        "colab": {
          "base_uri": "https://localhost:8080/",
          "height": 487
        },
        "id": "b7sOQ-Y1VXiO",
        "outputId": "0f494dd0-6f95-49b6-d06c-7a5c54ade6f9"
      },
      "source": [
        "df1.head(5)"
      ],
      "execution_count": null,
      "outputs": [
        {
          "output_type": "execute_result",
          "data": {
            "text/html": [
              "<div>\n",
              "<style scoped>\n",
              "    .dataframe tbody tr th:only-of-type {\n",
              "        vertical-align: middle;\n",
              "    }\n",
              "\n",
              "    .dataframe tbody tr th {\n",
              "        vertical-align: top;\n",
              "    }\n",
              "\n",
              "    .dataframe thead th {\n",
              "        text-align: right;\n",
              "    }\n",
              "</style>\n",
              "<table border=\"1\" class=\"dataframe\">\n",
              "  <thead>\n",
              "    <tr style=\"text-align: right;\">\n",
              "      <th></th>\n",
              "      <th>company_name_id</th>\n",
              "      <th>company_name</th>\n",
              "      <th>url</th>\n",
              "      <th>contact_first_name</th>\n",
              "      <th>contact_last_name</th>\n",
              "      <th>contact_title</th>\n",
              "      <th>contact_email</th>\n",
              "      <th>contact_phone</th>\n",
              "      <th>city</th>\n",
              "      <th>state</th>\n",
              "      <th>country</th>\n",
              "      <th>zip_code</th>\n",
              "      <th>year_founded</th>\n",
              "      <th>full_time_employees</th>\n",
              "      <th>company_type</th>\n",
              "      <th>company_category</th>\n",
              "      <th>revenue_source</th>\n",
              "      <th>business_model</th>\n",
              "      <th>social_impact</th>\n",
              "      <th>description</th>\n",
              "      <th>description_short</th>\n",
              "      <th>financial_info</th>\n",
              "      <th>source_count</th>\n",
              "      <th>data_types</th>\n",
              "      <th>data_comments</th>\n",
              "      <th>example_uses</th>\n",
              "      <th>data_impacts</th>\n",
              "      <th>date_created</th>\n",
              "      <th>last_updated</th>\n",
              "      <th>display</th>\n",
              "      <th>survey_submitted</th>\n",
              "      <th>vetted</th>\n",
              "      <th>vettedByCompany</th>\n",
              "      <th>submitted_through_website</th>\n",
              "      <th>locked</th>\n",
              "      <th>notes</th>\n",
              "      <th>Unnamed: 36</th>\n",
              "    </tr>\n",
              "  </thead>\n",
              "  <tbody>\n",
              "    <tr>\n",
              "      <th>0</th>\n",
              "      <td>1</td>\n",
              "      <td>1</td>\n",
              "      <td>dfd.com</td>\n",
              "      <td>sdf</td>\n",
              "      <td>fd</td>\n",
              "      <td>sd</td>\n",
              "      <td>as@df.com</td>\n",
              "      <td>NaN</td>\n",
              "      <td>NaN</td>\n",
              "      <td>AK</td>\n",
              "      <td>us</td>\n",
              "      <td>10023.0</td>\n",
              "      <td>1092.0</td>\n",
              "      <td>500</td>\n",
              "      <td>Private</td>\n",
              "      <td>Data/Technology</td>\n",
              "      <td>Government contract</td>\n",
              "      <td>Business to Consumer</td>\n",
              "      <td>Public safety</td>\n",
              "      <td>s</td>\n",
              "      <td>s</td>\n",
              "      <td>s</td>\n",
              "      <td>NaN</td>\n",
              "      <td>NaN</td>\n",
              "      <td>NaN</td>\n",
              "      <td>NaN</td>\n",
              "      <td>[]</td>\n",
              "      <td>2015-10-20 17:05:06.926540</td>\n",
              "      <td>2015-10-20 17:05:07.282560</td>\n",
              "      <td>False</td>\n",
              "      <td>True</td>\n",
              "      <td>False</td>\n",
              "      <td>True</td>\n",
              "      <td>True</td>\n",
              "      <td>False</td>\n",
              "      <td>NaN</td>\n",
              "      <td>NaN</td>\n",
              "    </tr>\n",
              "    <tr>\n",
              "      <th>1</th>\n",
              "      <td>1099is</td>\n",
              "      <td>1099.is</td>\n",
              "      <td>http://1099.is</td>\n",
              "      <td>na</td>\n",
              "      <td>na</td>\n",
              "      <td>NaN</td>\n",
              "      <td>hello@1099.is</td>\n",
              "      <td>NaN</td>\n",
              "      <td>New York</td>\n",
              "      <td>NY</td>\n",
              "      <td>us</td>\n",
              "      <td>NaN</td>\n",
              "      <td>1980.0</td>\n",
              "      <td>NaN</td>\n",
              "      <td>Public</td>\n",
              "      <td>Finance &amp; Investment</td>\n",
              "      <td>Data analysis for clients, Database licensing</td>\n",
              "      <td>NaN</td>\n",
              "      <td>NaN</td>\n",
              "      <td>Working for yourself has different tax implica...</td>\n",
              "      <td>1099.is helps people navigate the confusing ta...</td>\n",
              "      <td>NaN</td>\n",
              "      <td>1-10</td>\n",
              "      <td>NaN</td>\n",
              "      <td>NaN</td>\n",
              "      <td>NaN</td>\n",
              "      <td>[]</td>\n",
              "      <td>2013-12-15 15:28:20.677000</td>\n",
              "      <td>2014-09-11 17:21:28.582504</td>\n",
              "      <td>False</td>\n",
              "      <td>True</td>\n",
              "      <td>False</td>\n",
              "      <td>True</td>\n",
              "      <td>False</td>\n",
              "      <td>False</td>\n",
              "      <td>dropped</td>\n",
              "      <td>NaN</td>\n",
              "    </tr>\n",
              "    <tr>\n",
              "      <th>2</th>\n",
              "      <td>1800recyclingcom</td>\n",
              "      <td>1800Recycling.com</td>\n",
              "      <td>http://1800recycling.com</td>\n",
              "      <td>NaN</td>\n",
              "      <td>NaN</td>\n",
              "      <td>NaN</td>\n",
              "      <td>NaN</td>\n",
              "      <td>NaN</td>\n",
              "      <td>Fresno</td>\n",
              "      <td>CA</td>\n",
              "      <td>us</td>\n",
              "      <td>93711.0</td>\n",
              "      <td>NaN</td>\n",
              "      <td>NaN</td>\n",
              "      <td>Public</td>\n",
              "      <td>Environment &amp; Weather</td>\n",
              "      <td>NaN</td>\n",
              "      <td>NaN</td>\n",
              "      <td>NaN</td>\n",
              "      <td>1-800-RECYCLING.com is a dynamic recycling and...</td>\n",
              "      <td>This company is a search engine for recycling ...</td>\n",
              "      <td>NaN</td>\n",
              "      <td>NaN</td>\n",
              "      <td>NaN</td>\n",
              "      <td>NaN</td>\n",
              "      <td>NaN</td>\n",
              "      <td>[]</td>\n",
              "      <td>2013-12-15 15:28:20.700000</td>\n",
              "      <td>2014-03-18 21:04:05.465194</td>\n",
              "      <td>False</td>\n",
              "      <td>False</td>\n",
              "      <td>False</td>\n",
              "      <td>False</td>\n",
              "      <td>False</td>\n",
              "      <td>False</td>\n",
              "      <td>NaN</td>\n",
              "      <td>NaN</td>\n",
              "    </tr>\n",
              "    <tr>\n",
              "      <th>3</th>\n",
              "      <td>3-round-stones</td>\n",
              "      <td>3 Round Stones</td>\n",
              "      <td>http://3roundstones.com</td>\n",
              "      <td>Bernadette</td>\n",
              "      <td>Hyland</td>\n",
              "      <td>CEO &amp; Founder</td>\n",
              "      <td>bhyland@3roundstones.com</td>\n",
              "      <td>5713313758</td>\n",
              "      <td>Fredericksburg</td>\n",
              "      <td>VA</td>\n",
              "      <td>us</td>\n",
              "      <td>22408.0</td>\n",
              "      <td>2010.0</td>\n",
              "      <td>10</td>\n",
              "      <td>Private</td>\n",
              "      <td>Data/Technology</td>\n",
              "      <td>Data analysis for clients, Government contract...</td>\n",
              "      <td>Business to Business, Business to Government</td>\n",
              "      <td>Citizen engagement and participation, Consumer...</td>\n",
              "      <td>3 Round Stones licenses a scalable Web develop...</td>\n",
              "      <td>3 Round Stones helps you produce better data, ...</td>\n",
              "      <td>Privately funded and profitable, 3 Round Stone...</td>\n",
              "      <td>101+</td>\n",
              "      <td>Agriculture &amp; Food, Business, Consumer, Demogr...</td>\n",
              "      <td>Regional Environmental Protection Agencies and...</td>\n",
              "      <td>3 Round Stones operates the Linked Data Manage...</td>\n",
              "      <td>[u'Cost efficiency', u'New/improved research',...</td>\n",
              "      <td>2016-01-20 11:33:51.444591</td>\n",
              "      <td>2016-01-20 11:40:56.361494</td>\n",
              "      <td>False</td>\n",
              "      <td>True</td>\n",
              "      <td>False</td>\n",
              "      <td>True</td>\n",
              "      <td>True</td>\n",
              "      <td>False</td>\n",
              "      <td>NaN</td>\n",
              "      <td>NaN</td>\n",
              "    </tr>\n",
              "    <tr>\n",
              "      <th>4</th>\n",
              "      <td>3-round-stones-inc</td>\n",
              "      <td>3 Round Stones, Inc.</td>\n",
              "      <td>http://3RoundStones.com</td>\n",
              "      <td>Bernadette</td>\n",
              "      <td>Hyland</td>\n",
              "      <td>CEO</td>\n",
              "      <td>info@3RoundStones.com</td>\n",
              "      <td>877 290-2127</td>\n",
              "      <td>Washington</td>\n",
              "      <td>DC</td>\n",
              "      <td>us</td>\n",
              "      <td>20004.0</td>\n",
              "      <td>2010.0</td>\n",
              "      <td>10</td>\n",
              "      <td>Private</td>\n",
              "      <td>Data/Technology</td>\n",
              "      <td>Data analysis for clients, Database licensing,...</td>\n",
              "      <td>Business to Business, Business to Consumer</td>\n",
              "      <td>NaN</td>\n",
              "      <td>3 Round Stones produces a platform for publish...</td>\n",
              "      <td>Our Open Source platform is used by the Fortun...</td>\n",
              "      <td>3 Round Stones is a profitable, self-funded, w...</td>\n",
              "      <td>NaN</td>\n",
              "      <td>NaN</td>\n",
              "      <td>NaN</td>\n",
              "      <td>NaN</td>\n",
              "      <td>[]</td>\n",
              "      <td>2013-12-15 15:27:46.116000</td>\n",
              "      <td>2014-11-12 14:44:25.969871</td>\n",
              "      <td>True</td>\n",
              "      <td>True</td>\n",
              "      <td>True</td>\n",
              "      <td>True</td>\n",
              "      <td>False</td>\n",
              "      <td>True</td>\n",
              "      <td>NaN</td>\n",
              "      <td>NaN</td>\n",
              "    </tr>\n",
              "  </tbody>\n",
              "</table>\n",
              "</div>"
            ],
            "text/plain": [
              "      company_name_id          company_name  ...    notes Unnamed: 36\n",
              "0                   1                     1  ...      NaN         NaN\n",
              "1              1099is               1099.is  ...  dropped         NaN\n",
              "2    1800recyclingcom     1800Recycling.com  ...      NaN         NaN\n",
              "3      3-round-stones        3 Round Stones  ...      NaN         NaN\n",
              "4  3-round-stones-inc  3 Round Stones, Inc.  ...      NaN         NaN\n",
              "\n",
              "[5 rows x 37 columns]"
            ]
          },
          "metadata": {
            "tags": []
          },
          "execution_count": 25
        }
      ]
    },
    {
      "cell_type": "code",
      "metadata": {
        "id": "upvrWi8Icxzw"
      },
      "source": [
        "df[\"Total.Records\"]=pd.to_numeric(df[\"Total.Records\"], errors='coerce')"
      ],
      "execution_count": null,
      "outputs": []
    },
    {
      "cell_type": "code",
      "metadata": {
        "id": "qPGmUdSGMRIe"
      },
      "source": [
        "df[\"Nb_Employees\"]=0\n",
        "df[\"Company_Type\"]=\"Public\""
      ],
      "execution_count": null,
      "outputs": []
    },
    {
      "cell_type": "code",
      "metadata": {
        "colab": {
          "base_uri": "https://localhost:8080/"
        },
        "id": "C5yQIM8nga4s",
        "outputId": "fcc5a5f2-0fd2-4c66-ca68-93809d30b807"
      },
      "source": [
        "for i in range(695):\n",
        "    j=i + 6255\n",
        "    df['Nb_Employees'][j] = df1['full_time_employees'][i]\n",
        "    df['Company_Type'][j] = df1['company_type'][i]\n"
      ],
      "execution_count": null,
      "outputs": [
        {
          "output_type": "stream",
          "text": [
            "/usr/local/lib/python3.7/dist-packages/ipykernel_launcher.py:3: SettingWithCopyWarning: \n",
            "A value is trying to be set on a copy of a slice from a DataFrame\n",
            "\n",
            "See the caveats in the documentation: https://pandas.pydata.org/pandas-docs/stable/user_guide/indexing.html#returning-a-view-versus-a-copy\n",
            "  This is separate from the ipykernel package so we can avoid doing imports until\n",
            "/usr/local/lib/python3.7/dist-packages/ipykernel_launcher.py:4: SettingWithCopyWarning: \n",
            "A value is trying to be set on a copy of a slice from a DataFrame\n",
            "\n",
            "See the caveats in the documentation: https://pandas.pydata.org/pandas-docs/stable/user_guide/indexing.html#returning-a-view-versus-a-copy\n",
            "  after removing the cwd from sys.path.\n"
          ],
          "name": "stderr"
        }
      ]
    },
    {
      "cell_type": "code",
      "metadata": {
        "colab": {
          "base_uri": "https://localhost:8080/",
          "height": 400
        },
        "id": "VdcSH_yyiEKQ",
        "outputId": "4e48e868-07fe-4429-c1a5-8d04321f0615"
      },
      "source": [
        "df.head()"
      ],
      "execution_count": null,
      "outputs": [
        {
          "output_type": "execute_result",
          "data": {
            "text/html": [
              "<div>\n",
              "<style scoped>\n",
              "    .dataframe tbody tr th:only-of-type {\n",
              "        vertical-align: middle;\n",
              "    }\n",
              "\n",
              "    .dataframe tbody tr th {\n",
              "        vertical-align: top;\n",
              "    }\n",
              "\n",
              "    .dataframe thead th {\n",
              "        text-align: right;\n",
              "    }\n",
              "</style>\n",
              "<table border=\"1\" class=\"dataframe\">\n",
              "  <thead>\n",
              "    <tr style=\"text-align: right;\">\n",
              "      <th></th>\n",
              "      <th>Company</th>\n",
              "      <th>Date.Made.Public</th>\n",
              "      <th>Total.Records</th>\n",
              "      <th>Type.of.breach</th>\n",
              "      <th>Type.of.organization</th>\n",
              "      <th>Gather.Information.Source</th>\n",
              "      <th>year</th>\n",
              "      <th>Nb_Employees</th>\n",
              "      <th>Company_Type</th>\n",
              "    </tr>\n",
              "  </thead>\n",
              "  <tbody>\n",
              "    <tr>\n",
              "      <th>0</th>\n",
              "      <td>bullitt county public schools</td>\n",
              "      <td>2009-10-21</td>\n",
              "      <td>676.0</td>\n",
              "      <td>DISC</td>\n",
              "      <td>EDU</td>\n",
              "      <td>Nonprofit organization</td>\n",
              "      <td>2009</td>\n",
              "      <td>500</td>\n",
              "      <td>Private</td>\n",
              "    </tr>\n",
              "    <tr>\n",
              "      <th>1</th>\n",
              "      <td>roane state community college</td>\n",
              "      <td>2009-10-21</td>\n",
              "      <td>14783.0</td>\n",
              "      <td>PORT</td>\n",
              "      <td>EDU</td>\n",
              "      <td>Nonprofit organization</td>\n",
              "      <td>2009</td>\n",
              "      <td>NaN</td>\n",
              "      <td>Public</td>\n",
              "    </tr>\n",
              "    <tr>\n",
              "      <th>2</th>\n",
              "      <td>halifax health</td>\n",
              "      <td>2009-10-15</td>\n",
              "      <td>33000.0</td>\n",
              "      <td>PORT</td>\n",
              "      <td>MED</td>\n",
              "      <td>Nonprofit organization</td>\n",
              "      <td>2009</td>\n",
              "      <td>NaN</td>\n",
              "      <td>Public</td>\n",
              "    </tr>\n",
              "    <tr>\n",
              "      <th>3</th>\n",
              "      <td>suffolk community college</td>\n",
              "      <td>2009-10-04</td>\n",
              "      <td>300.0</td>\n",
              "      <td>DISC</td>\n",
              "      <td>EDU</td>\n",
              "      <td>Nonprofit organization</td>\n",
              "      <td>2009</td>\n",
              "      <td>10</td>\n",
              "      <td>Private</td>\n",
              "    </tr>\n",
              "    <tr>\n",
              "      <th>4</th>\n",
              "      <td>penrose hospital</td>\n",
              "      <td>2009-09-28</td>\n",
              "      <td>175.0</td>\n",
              "      <td>PHYS</td>\n",
              "      <td>MED</td>\n",
              "      <td>Nonprofit organization</td>\n",
              "      <td>2009</td>\n",
              "      <td>10</td>\n",
              "      <td>Private</td>\n",
              "    </tr>\n",
              "  </tbody>\n",
              "</table>\n",
              "</div>"
            ],
            "text/plain": [
              "                         Company Date.Made.Public  ...  Nb_Employees Company_Type\n",
              "0  bullitt county public schools       2009-10-21  ...           500      Private\n",
              "1  roane state community college       2009-10-21  ...           NaN       Public\n",
              "2                 halifax health       2009-10-15  ...           NaN       Public\n",
              "3      suffolk community college       2009-10-04  ...            10      Private\n",
              "4               penrose hospital       2009-09-28  ...            10      Private\n",
              "\n",
              "[5 rows x 9 columns]"
            ]
          },
          "metadata": {
            "tags": []
          },
          "execution_count": 79
        }
      ]
    },
    {
      "cell_type": "code",
      "metadata": {
        "colab": {
          "base_uri": "https://localhost:8080/"
        },
        "id": "YLU0EZ-qlWrD",
        "outputId": "6f79a26a-0246-4dd3-d202-0e1546a5318e"
      },
      "source": [
        "# Number of missing value of each features\n",
        "print(df.isnull().sum())"
      ],
      "execution_count": null,
      "outputs": [
        {
          "output_type": "stream",
          "text": [
            "Company                      0\n",
            "Date.Made.Public             0\n",
            "Total.Records                0\n",
            "Type.of.breach               0\n",
            "Type.of.organization         0\n",
            "Gather.Information.Source    0\n",
            "year                         0\n",
            "Nb_Employees                 0\n",
            "Company_Type                 0\n",
            "dtype: int64\n"
          ],
          "name": "stdout"
        }
      ]
    },
    {
      "cell_type": "code",
      "metadata": {
        "colab": {
          "base_uri": "https://localhost:8080/"
        },
        "id": "FVSBvYEVvuQ8",
        "outputId": "fc46ea15-6643-4d61-cf35-66dcd8c6a90f"
      },
      "source": [
        "\n",
        "df[\"Nb_Employees\"]=pd.to_numeric(df[\"Nb_Employees\"], errors='coerce')\n",
        "mode1 = df['Nb_Employees'].mean()\n",
        "mode1"
      ],
      "execution_count": null,
      "outputs": [
        {
          "output_type": "execute_result",
          "data": {
            "text/plain": [
              "2687.4069394682256"
            ]
          },
          "metadata": {
            "tags": []
          },
          "execution_count": 84
        }
      ]
    },
    {
      "cell_type": "code",
      "metadata": {
        "id": "vgwlHE5ok7Nk"
      },
      "source": [
        "# To deal with missing value in the features  with numerical  we remplace the missing value by the median\n",
        "median = df['Total.Records'].median()\n",
        "df['Total.Records'].fillna(median, inplace=True)\n",
        "\n",
        "\n",
        "# Concerning the categorical variable we used the mode \n",
        "mode1 = df['Type.of.breach'].mode()\n",
        "df['Type.of.breach'].fillna(\"HACK\", inplace=True)\n",
        "#df.loc[df[\"Type.of.breach\"]==\"mode1\",\"Type.of.breach\"]='HACK'\n",
        "\n",
        "mode2 = df['Gather.Information.Source'].mode()\n",
        "df['Gather.Information.Source'].fillna(\"Nonprofit organization\", inplace=True)\n",
        "\n",
        "df['Company_Type'].fillna(\"Private\", inplace=True)\n",
        "\n",
        "df['Nb_Employees'].fillna(2687, inplace=True)"
      ],
      "execution_count": null,
      "outputs": []
    },
    {
      "cell_type": "code",
      "metadata": {
        "colab": {
          "base_uri": "https://localhost:8080/"
        },
        "id": "y70fufNRcC9P",
        "outputId": "51fee4d6-4592-4809-ec3c-1e62ac620ffc"
      },
      "source": [
        "from math import exp, log\n",
        "n=df.shape[0]\n",
        "df[\"Amount1\"]=df['Total.Records']\n",
        "df['Amount2']=df['Total.Records']\n",
        "for i in range(n):\n",
        "  df[\"Amount1\"][i]= exp(7.68 + 0.76 * log(df[\"Total.Records\"][i]) )\n",
        "  df[\"Amount2\"][i]= exp(9.59 + 0.57* log(df[\"Total.Records\"][i]) )"
      ],
      "execution_count": null,
      "outputs": [
        {
          "output_type": "stream",
          "text": [
            "/usr/local/lib/python3.7/dist-packages/ipykernel_launcher.py:6: SettingWithCopyWarning: \n",
            "A value is trying to be set on a copy of a slice from a DataFrame\n",
            "\n",
            "See the caveats in the documentation: https://pandas.pydata.org/pandas-docs/stable/user_guide/indexing.html#returning-a-view-versus-a-copy\n",
            "  \n",
            "/usr/local/lib/python3.7/dist-packages/ipykernel_launcher.py:7: SettingWithCopyWarning: \n",
            "A value is trying to be set on a copy of a slice from a DataFrame\n",
            "\n",
            "See the caveats in the documentation: https://pandas.pydata.org/pandas-docs/stable/user_guide/indexing.html#returning-a-view-versus-a-copy\n",
            "  import sys\n"
          ],
          "name": "stderr"
        }
      ]
    },
    {
      "cell_type": "code",
      "metadata": {
        "colab": {
          "base_uri": "https://localhost:8080/",
          "height": 400
        },
        "id": "51zWBFOQLMqU",
        "outputId": "f23f4ea0-5446-44a1-d51f-f4770c5461bb"
      },
      "source": [
        "df.head()"
      ],
      "execution_count": null,
      "outputs": [
        {
          "output_type": "execute_result",
          "data": {
            "text/html": [
              "<div>\n",
              "<style scoped>\n",
              "    .dataframe tbody tr th:only-of-type {\n",
              "        vertical-align: middle;\n",
              "    }\n",
              "\n",
              "    .dataframe tbody tr th {\n",
              "        vertical-align: top;\n",
              "    }\n",
              "\n",
              "    .dataframe thead th {\n",
              "        text-align: right;\n",
              "    }\n",
              "</style>\n",
              "<table border=\"1\" class=\"dataframe\">\n",
              "  <thead>\n",
              "    <tr style=\"text-align: right;\">\n",
              "      <th></th>\n",
              "      <th>Company</th>\n",
              "      <th>Date.Made.Public</th>\n",
              "      <th>Total.Records</th>\n",
              "      <th>Type.of.breach</th>\n",
              "      <th>Type.of.organization</th>\n",
              "      <th>Gather.Information.Source</th>\n",
              "      <th>year</th>\n",
              "      <th>Nb_Employees</th>\n",
              "      <th>Company_Type</th>\n",
              "      <th>Amount1</th>\n",
              "      <th>Amount2</th>\n",
              "    </tr>\n",
              "  </thead>\n",
              "  <tbody>\n",
              "    <tr>\n",
              "      <th>0</th>\n",
              "      <td>bullitt county public schools</td>\n",
              "      <td>2009-10-21</td>\n",
              "      <td>676.0</td>\n",
              "      <td>DISC</td>\n",
              "      <td>EDU</td>\n",
              "      <td>Nonprofit organization</td>\n",
              "      <td>2009</td>\n",
              "      <td>500.0</td>\n",
              "      <td>Private</td>\n",
              "      <td>3.062958e+05</td>\n",
              "      <td>5.997271e+05</td>\n",
              "    </tr>\n",
              "    <tr>\n",
              "      <th>1</th>\n",
              "      <td>roane state community college</td>\n",
              "      <td>2009-10-21</td>\n",
              "      <td>14783.0</td>\n",
              "      <td>PORT</td>\n",
              "      <td>EDU</td>\n",
              "      <td>Nonprofit organization</td>\n",
              "      <td>2009</td>\n",
              "      <td>2687.0</td>\n",
              "      <td>Public</td>\n",
              "      <td>3.194487e+06</td>\n",
              "      <td>3.480557e+06</td>\n",
              "    </tr>\n",
              "    <tr>\n",
              "      <th>2</th>\n",
              "      <td>halifax health</td>\n",
              "      <td>2009-10-15</td>\n",
              "      <td>33000.0</td>\n",
              "      <td>PORT</td>\n",
              "      <td>MED</td>\n",
              "      <td>Nonprofit organization</td>\n",
              "      <td>2009</td>\n",
              "      <td>2687.0</td>\n",
              "      <td>Public</td>\n",
              "      <td>5.881014e+06</td>\n",
              "      <td>5.500942e+06</td>\n",
              "    </tr>\n",
              "    <tr>\n",
              "      <th>3</th>\n",
              "      <td>suffolk community college</td>\n",
              "      <td>2009-10-04</td>\n",
              "      <td>300.0</td>\n",
              "      <td>DISC</td>\n",
              "      <td>EDU</td>\n",
              "      <td>Nonprofit organization</td>\n",
              "      <td>2009</td>\n",
              "      <td>10.0</td>\n",
              "      <td>Private</td>\n",
              "      <td>1.651938e+05</td>\n",
              "      <td>3.774359e+05</td>\n",
              "    </tr>\n",
              "    <tr>\n",
              "      <th>4</th>\n",
              "      <td>penrose hospital</td>\n",
              "      <td>2009-09-28</td>\n",
              "      <td>175.0</td>\n",
              "      <td>PHYS</td>\n",
              "      <td>MED</td>\n",
              "      <td>Nonprofit organization</td>\n",
              "      <td>2009</td>\n",
              "      <td>10.0</td>\n",
              "      <td>Private</td>\n",
              "      <td>1.096707e+05</td>\n",
              "      <td>2.775976e+05</td>\n",
              "    </tr>\n",
              "  </tbody>\n",
              "</table>\n",
              "</div>"
            ],
            "text/plain": [
              "                         Company Date.Made.Public  ...       Amount1       Amount2\n",
              "0  bullitt county public schools       2009-10-21  ...  3.062958e+05  5.997271e+05\n",
              "1  roane state community college       2009-10-21  ...  3.194487e+06  3.480557e+06\n",
              "2                 halifax health       2009-10-15  ...  5.881014e+06  5.500942e+06\n",
              "3      suffolk community college       2009-10-04  ...  1.651938e+05  3.774359e+05\n",
              "4               penrose hospital       2009-09-28  ...  1.096707e+05  2.775976e+05\n",
              "\n",
              "[5 rows x 11 columns]"
            ]
          },
          "metadata": {
            "tags": []
          },
          "execution_count": 88
        }
      ]
    },
    {
      "cell_type": "code",
      "metadata": {
        "id": "RXeju4_hr-9e"
      },
      "source": [
        "df[\"Amount1\"]=pd.to_numeric(df[\"Amount1\"], errors='coerce')\n",
        "df[\"Amount2\"]=pd.to_numeric(df[\"Amount2\"], errors='coerce')"
      ],
      "execution_count": null,
      "outputs": []
    },
    {
      "cell_type": "code",
      "metadata": {
        "id": "aqGdvRivzDi8"
      },
      "source": [
        "df.to_csv('donnees',sep='\\t')"
      ],
      "execution_count": null,
      "outputs": []
    },
    {
      "cell_type": "code",
      "metadata": {
        "colab": {
          "base_uri": "https://localhost:8080/",
          "height": 400
        },
        "id": "KYG_9KMf0ddN",
        "outputId": "48a38151-101d-4cb3-8f89-4e7df2214b23"
      },
      "source": [
        "df.head()"
      ],
      "execution_count": null,
      "outputs": [
        {
          "output_type": "execute_result",
          "data": {
            "text/html": [
              "<div>\n",
              "<style scoped>\n",
              "    .dataframe tbody tr th:only-of-type {\n",
              "        vertical-align: middle;\n",
              "    }\n",
              "\n",
              "    .dataframe tbody tr th {\n",
              "        vertical-align: top;\n",
              "    }\n",
              "\n",
              "    .dataframe thead th {\n",
              "        text-align: right;\n",
              "    }\n",
              "</style>\n",
              "<table border=\"1\" class=\"dataframe\">\n",
              "  <thead>\n",
              "    <tr style=\"text-align: right;\">\n",
              "      <th></th>\n",
              "      <th>Company</th>\n",
              "      <th>Date.Made.Public</th>\n",
              "      <th>Total.Records</th>\n",
              "      <th>Type.of.breach</th>\n",
              "      <th>Type.of.organization</th>\n",
              "      <th>Gather.Information.Source</th>\n",
              "      <th>year</th>\n",
              "      <th>Nb_Employees</th>\n",
              "      <th>Company_Type</th>\n",
              "      <th>Amount1</th>\n",
              "      <th>Amount2</th>\n",
              "    </tr>\n",
              "  </thead>\n",
              "  <tbody>\n",
              "    <tr>\n",
              "      <th>0</th>\n",
              "      <td>bullitt county public schools</td>\n",
              "      <td>2009-10-21</td>\n",
              "      <td>676.0</td>\n",
              "      <td>DISC</td>\n",
              "      <td>EDU</td>\n",
              "      <td>Nonprofit organization</td>\n",
              "      <td>2009</td>\n",
              "      <td>500.0</td>\n",
              "      <td>Private</td>\n",
              "      <td>3.062958e+05</td>\n",
              "      <td>5.997271e+05</td>\n",
              "    </tr>\n",
              "    <tr>\n",
              "      <th>1</th>\n",
              "      <td>roane state community college</td>\n",
              "      <td>2009-10-21</td>\n",
              "      <td>14783.0</td>\n",
              "      <td>PORT</td>\n",
              "      <td>EDU</td>\n",
              "      <td>Nonprofit organization</td>\n",
              "      <td>2009</td>\n",
              "      <td>2687.0</td>\n",
              "      <td>Public</td>\n",
              "      <td>3.194487e+06</td>\n",
              "      <td>3.480557e+06</td>\n",
              "    </tr>\n",
              "    <tr>\n",
              "      <th>2</th>\n",
              "      <td>halifax health</td>\n",
              "      <td>2009-10-15</td>\n",
              "      <td>33000.0</td>\n",
              "      <td>PORT</td>\n",
              "      <td>MED</td>\n",
              "      <td>Nonprofit organization</td>\n",
              "      <td>2009</td>\n",
              "      <td>2687.0</td>\n",
              "      <td>Public</td>\n",
              "      <td>5.881014e+06</td>\n",
              "      <td>5.500942e+06</td>\n",
              "    </tr>\n",
              "    <tr>\n",
              "      <th>3</th>\n",
              "      <td>suffolk community college</td>\n",
              "      <td>2009-10-04</td>\n",
              "      <td>300.0</td>\n",
              "      <td>DISC</td>\n",
              "      <td>EDU</td>\n",
              "      <td>Nonprofit organization</td>\n",
              "      <td>2009</td>\n",
              "      <td>10.0</td>\n",
              "      <td>Private</td>\n",
              "      <td>1.651938e+05</td>\n",
              "      <td>3.774359e+05</td>\n",
              "    </tr>\n",
              "    <tr>\n",
              "      <th>4</th>\n",
              "      <td>penrose hospital</td>\n",
              "      <td>2009-09-28</td>\n",
              "      <td>175.0</td>\n",
              "      <td>PHYS</td>\n",
              "      <td>MED</td>\n",
              "      <td>Nonprofit organization</td>\n",
              "      <td>2009</td>\n",
              "      <td>10.0</td>\n",
              "      <td>Private</td>\n",
              "      <td>1.096707e+05</td>\n",
              "      <td>2.775976e+05</td>\n",
              "    </tr>\n",
              "  </tbody>\n",
              "</table>\n",
              "</div>"
            ],
            "text/plain": [
              "                         Company Date.Made.Public  ...       Amount1       Amount2\n",
              "0  bullitt county public schools       2009-10-21  ...  3.062958e+05  5.997271e+05\n",
              "1  roane state community college       2009-10-21  ...  3.194487e+06  3.480557e+06\n",
              "2                 halifax health       2009-10-15  ...  5.881014e+06  5.500942e+06\n",
              "3      suffolk community college       2009-10-04  ...  1.651938e+05  3.774359e+05\n",
              "4               penrose hospital       2009-09-28  ...  1.096707e+05  2.775976e+05\n",
              "\n",
              "[5 rows x 11 columns]"
            ]
          },
          "metadata": {
            "tags": []
          },
          "execution_count": 93
        }
      ]
    },
    {
      "cell_type": "code",
      "metadata": {
        "id": "9D8Vu7BAL2XN"
      },
      "source": [
        " df.drop( df[ df['Type.of.breach'] == \"PHYS\"].index, inplace=True)"
      ],
      "execution_count": null,
      "outputs": []
    },
    {
      "cell_type": "code",
      "metadata": {
        "colab": {
          "base_uri": "https://localhost:8080/"
        },
        "id": "HKxFpqN90sNm",
        "outputId": "615cf87f-f2e2-4f90-c9f0-b5be8d3a3491"
      },
      "source": [
        "df.shape"
      ],
      "execution_count": null,
      "outputs": [
        {
          "output_type": "execute_result",
          "data": {
            "text/plain": [
              "(5155, 12)"
            ]
          },
          "metadata": {
            "tags": []
          },
          "execution_count": 49
        }
      ]
    },
    {
      "cell_type": "code",
      "metadata": {
        "id": "p_l-1-lgzidc"
      },
      "source": [
        ""
      ],
      "execution_count": null,
      "outputs": []
    },
    {
      "cell_type": "code",
      "metadata": {
        "id": "HfzxY1Kl05ZQ"
      },
      "source": [
        "df =df.drop(['Company_Type'], axis =1)"
      ],
      "execution_count": null,
      "outputs": []
    },
    {
      "cell_type": "code",
      "metadata": {
        "id": "-1s9duxo1D1V"
      },
      "source": [
        "df.to_csv('donnees1',sep='\\t')"
      ],
      "execution_count": null,
      "outputs": []
    },
    {
      "cell_type": "code",
      "metadata": {
        "id": "foJdOZb115F7"
      },
      "source": [
        "df['Nb_Employees'] = df['Nb_Employees'].astype(int)"
      ],
      "execution_count": null,
      "outputs": []
    },
    {
      "cell_type": "code",
      "metadata": {
        "colab": {
          "base_uri": "https://localhost:8080/",
          "height": 269
        },
        "id": "2mc0hyHt2qey",
        "outputId": "02f0aaf7-fc61-48d2-adeb-96b46a06aa69"
      },
      "source": [
        "byComp = df.groupby('Type.of.breach')\n",
        "byComp.sum()"
      ],
      "execution_count": null,
      "outputs": [
        {
          "output_type": "execute_result",
          "data": {
            "text/html": [
              "<div>\n",
              "<style scoped>\n",
              "    .dataframe tbody tr th:only-of-type {\n",
              "        vertical-align: middle;\n",
              "    }\n",
              "\n",
              "    .dataframe tbody tr th {\n",
              "        vertical-align: top;\n",
              "    }\n",
              "\n",
              "    .dataframe thead th {\n",
              "        text-align: right;\n",
              "    }\n",
              "</style>\n",
              "<table border=\"1\" class=\"dataframe\">\n",
              "  <thead>\n",
              "    <tr style=\"text-align: right;\">\n",
              "      <th></th>\n",
              "      <th>Total.Records</th>\n",
              "      <th>year</th>\n",
              "      <th>Nb_Employees</th>\n",
              "      <th>Amount1</th>\n",
              "      <th>Amount2</th>\n",
              "    </tr>\n",
              "    <tr>\n",
              "      <th>Type.of.breach</th>\n",
              "      <th></th>\n",
              "      <th></th>\n",
              "      <th></th>\n",
              "      <th></th>\n",
              "      <th></th>\n",
              "    </tr>\n",
              "  </thead>\n",
              "  <tbody>\n",
              "    <tr>\n",
              "      <th>CARD</th>\n",
              "      <td>9.203036e+06</td>\n",
              "      <td>64350</td>\n",
              "      <td>66502</td>\n",
              "      <td>5.139147e+08</td>\n",
              "      <td>2.108125e+08</td>\n",
              "    </tr>\n",
              "    <tr>\n",
              "      <th>DISC</th>\n",
              "      <td>4.277582e+08</td>\n",
              "      <td>2935203</td>\n",
              "      <td>4196995</td>\n",
              "      <td>1.650635e+10</td>\n",
              "      <td>6.578437e+09</td>\n",
              "    </tr>\n",
              "    <tr>\n",
              "      <th>HACK</th>\n",
              "      <td>5.816416e+09</td>\n",
              "      <td>4491899</td>\n",
              "      <td>5984743</td>\n",
              "      <td>1.075455e+11</td>\n",
              "      <td>2.449867e+10</td>\n",
              "    </tr>\n",
              "    <tr>\n",
              "      <th>INSD</th>\n",
              "      <td>6.658245e+07</td>\n",
              "      <td>758184</td>\n",
              "      <td>668272</td>\n",
              "      <td>3.488432e+09</td>\n",
              "      <td>1.569652e+09</td>\n",
              "    </tr>\n",
              "    <tr>\n",
              "      <th>PORT</th>\n",
              "      <td>1.096529e+08</td>\n",
              "      <td>1756246</td>\n",
              "      <td>2284895</td>\n",
              "      <td>7.788057e+09</td>\n",
              "      <td>4.465738e+09</td>\n",
              "    </tr>\n",
              "    <tr>\n",
              "      <th>STAT</th>\n",
              "      <td>1.623593e+07</td>\n",
              "      <td>369643</td>\n",
              "      <td>877368</td>\n",
              "      <td>1.371838e+09</td>\n",
              "      <td>8.565693e+08</td>\n",
              "    </tr>\n",
              "  </tbody>\n",
              "</table>\n",
              "</div>"
            ],
            "text/plain": [
              "                Total.Records     year  ...       Amount1       Amount2\n",
              "Type.of.breach                          ...                            \n",
              "CARD             9.203036e+06    64350  ...  5.139147e+08  2.108125e+08\n",
              "DISC             4.277582e+08  2935203  ...  1.650635e+10  6.578437e+09\n",
              "HACK             5.816416e+09  4491899  ...  1.075455e+11  2.449867e+10\n",
              "INSD             6.658245e+07   758184  ...  3.488432e+09  1.569652e+09\n",
              "PORT             1.096529e+08  1756246  ...  7.788057e+09  4.465738e+09\n",
              "STAT             1.623593e+07   369643  ...  1.371838e+09  8.565693e+08\n",
              "\n",
              "[6 rows x 5 columns]"
            ]
          },
          "metadata": {
            "tags": []
          },
          "execution_count": 112
        }
      ]
    },
    {
      "cell_type": "code",
      "metadata": {
        "colab": {
          "base_uri": "https://localhost:8080/",
          "height": 332
        },
        "id": "m_Lsb756jOh7",
        "outputId": "2b75c39b-1535-4de8-e6d9-bc1f47ac3fc7"
      },
      "source": [
        "byComp = df.groupby('Type.of.organization')\n",
        "byComp.sum()"
      ],
      "execution_count": null,
      "outputs": [
        {
          "output_type": "execute_result",
          "data": {
            "text/html": [
              "<div>\n",
              "<style scoped>\n",
              "    .dataframe tbody tr th:only-of-type {\n",
              "        vertical-align: middle;\n",
              "    }\n",
              "\n",
              "    .dataframe tbody tr th {\n",
              "        vertical-align: top;\n",
              "    }\n",
              "\n",
              "    .dataframe thead th {\n",
              "        text-align: right;\n",
              "    }\n",
              "</style>\n",
              "<table border=\"1\" class=\"dataframe\">\n",
              "  <thead>\n",
              "    <tr style=\"text-align: right;\">\n",
              "      <th></th>\n",
              "      <th>Total.Records</th>\n",
              "      <th>year</th>\n",
              "      <th>Nb_Employees</th>\n",
              "      <th>Amount1</th>\n",
              "      <th>Amount2</th>\n",
              "    </tr>\n",
              "    <tr>\n",
              "      <th>Type.of.organization</th>\n",
              "      <th></th>\n",
              "      <th></th>\n",
              "      <th></th>\n",
              "      <th></th>\n",
              "      <th></th>\n",
              "    </tr>\n",
              "  </thead>\n",
              "  <tbody>\n",
              "    <tr>\n",
              "      <th>BSF</th>\n",
              "      <td>3.947584e+08</td>\n",
              "      <td>790212</td>\n",
              "      <td>824663</td>\n",
              "      <td>1.440964e+10</td>\n",
              "      <td>4.727427e+09</td>\n",
              "    </tr>\n",
              "    <tr>\n",
              "      <th>BSO</th>\n",
              "      <td>5.207124e+09</td>\n",
              "      <td>824757</td>\n",
              "      <td>779757</td>\n",
              "      <td>8.289111e+10</td>\n",
              "      <td>1.442170e+10</td>\n",
              "    </tr>\n",
              "    <tr>\n",
              "      <th>BSR</th>\n",
              "      <td>4.221738e+08</td>\n",
              "      <td>583366</td>\n",
              "      <td>1121506</td>\n",
              "      <td>1.356667e+10</td>\n",
              "      <td>3.909586e+09</td>\n",
              "    </tr>\n",
              "    <tr>\n",
              "      <th>EDU</th>\n",
              "      <td>6.478616e+07</td>\n",
              "      <td>1286138</td>\n",
              "      <td>1679090</td>\n",
              "      <td>3.929904e+09</td>\n",
              "      <td>2.346737e+09</td>\n",
              "    </tr>\n",
              "    <tr>\n",
              "      <th>GOV</th>\n",
              "      <td>1.488690e+08</td>\n",
              "      <td>992850</td>\n",
              "      <td>1338130</td>\n",
              "      <td>8.203827e+09</td>\n",
              "      <td>3.733068e+09</td>\n",
              "    </tr>\n",
              "    <tr>\n",
              "      <th>MED</th>\n",
              "      <td>1.913110e+08</td>\n",
              "      <td>5004741</td>\n",
              "      <td>6909539</td>\n",
              "      <td>1.276196e+10</td>\n",
              "      <td>8.086181e+09</td>\n",
              "    </tr>\n",
              "    <tr>\n",
              "      <th>NGO</th>\n",
              "      <td>8.418344e+06</td>\n",
              "      <td>136713</td>\n",
              "      <td>115133</td>\n",
              "      <td>6.180634e+08</td>\n",
              "      <td>3.383285e+08</td>\n",
              "    </tr>\n",
              "    <tr>\n",
              "      <th>Unknown</th>\n",
              "      <td>8.407522e+06</td>\n",
              "      <td>756748</td>\n",
              "      <td>1310957</td>\n",
              "      <td>8.329451e+08</td>\n",
              "      <td>6.168568e+08</td>\n",
              "    </tr>\n",
              "  </tbody>\n",
              "</table>\n",
              "</div>"
            ],
            "text/plain": [
              "                      Total.Records     year  ...       Amount1       Amount2\n",
              "Type.of.organization                          ...                            \n",
              "BSF                    3.947584e+08   790212  ...  1.440964e+10  4.727427e+09\n",
              "BSO                    5.207124e+09   824757  ...  8.289111e+10  1.442170e+10\n",
              "BSR                    4.221738e+08   583366  ...  1.356667e+10  3.909586e+09\n",
              "EDU                    6.478616e+07  1286138  ...  3.929904e+09  2.346737e+09\n",
              "GOV                    1.488690e+08   992850  ...  8.203827e+09  3.733068e+09\n",
              "MED                    1.913110e+08  5004741  ...  1.276196e+10  8.086181e+09\n",
              "NGO                    8.418344e+06   136713  ...  6.180634e+08  3.383285e+08\n",
              "Unknown                8.407522e+06   756748  ...  8.329451e+08  6.168568e+08\n",
              "\n",
              "[8 rows x 5 columns]"
            ]
          },
          "metadata": {
            "tags": []
          },
          "execution_count": 111
        }
      ]
    },
    {
      "cell_type": "code",
      "metadata": {
        "colab": {
          "base_uri": "https://localhost:8080/",
          "height": 320
        },
        "id": "l6T-P0Be7aHl",
        "outputId": "e98c3090-c647-4532-e0c4-2c8cdf1ed13f"
      },
      "source": [
        "byComp.describe()"
      ],
      "execution_count": null,
      "outputs": [
        {
          "output_type": "execute_result",
          "data": {
            "text/html": [
              "<div>\n",
              "<style scoped>\n",
              "    .dataframe tbody tr th:only-of-type {\n",
              "        vertical-align: middle;\n",
              "    }\n",
              "\n",
              "    .dataframe tbody tr th {\n",
              "        vertical-align: top;\n",
              "    }\n",
              "\n",
              "    .dataframe thead tr th {\n",
              "        text-align: left;\n",
              "    }\n",
              "\n",
              "    .dataframe thead tr:last-of-type th {\n",
              "        text-align: right;\n",
              "    }\n",
              "</style>\n",
              "<table border=\"1\" class=\"dataframe\">\n",
              "  <thead>\n",
              "    <tr>\n",
              "      <th></th>\n",
              "      <th colspan=\"8\" halign=\"left\">Total.Records</th>\n",
              "      <th colspan=\"8\" halign=\"left\">year</th>\n",
              "      <th colspan=\"8\" halign=\"left\">Nb_Employees</th>\n",
              "      <th colspan=\"8\" halign=\"left\">Amount1</th>\n",
              "      <th colspan=\"8\" halign=\"left\">Amount2</th>\n",
              "    </tr>\n",
              "    <tr>\n",
              "      <th></th>\n",
              "      <th>count</th>\n",
              "      <th>mean</th>\n",
              "      <th>std</th>\n",
              "      <th>min</th>\n",
              "      <th>25%</th>\n",
              "      <th>50%</th>\n",
              "      <th>75%</th>\n",
              "      <th>max</th>\n",
              "      <th>count</th>\n",
              "      <th>mean</th>\n",
              "      <th>std</th>\n",
              "      <th>min</th>\n",
              "      <th>25%</th>\n",
              "      <th>50%</th>\n",
              "      <th>75%</th>\n",
              "      <th>max</th>\n",
              "      <th>count</th>\n",
              "      <th>mean</th>\n",
              "      <th>std</th>\n",
              "      <th>min</th>\n",
              "      <th>25%</th>\n",
              "      <th>50%</th>\n",
              "      <th>75%</th>\n",
              "      <th>max</th>\n",
              "      <th>count</th>\n",
              "      <th>mean</th>\n",
              "      <th>std</th>\n",
              "      <th>min</th>\n",
              "      <th>25%</th>\n",
              "      <th>50%</th>\n",
              "      <th>75%</th>\n",
              "      <th>max</th>\n",
              "      <th>count</th>\n",
              "      <th>mean</th>\n",
              "      <th>std</th>\n",
              "      <th>min</th>\n",
              "      <th>25%</th>\n",
              "      <th>50%</th>\n",
              "      <th>75%</th>\n",
              "      <th>max</th>\n",
              "    </tr>\n",
              "    <tr>\n",
              "      <th>Type.of.breach</th>\n",
              "      <th></th>\n",
              "      <th></th>\n",
              "      <th></th>\n",
              "      <th></th>\n",
              "      <th></th>\n",
              "      <th></th>\n",
              "      <th></th>\n",
              "      <th></th>\n",
              "      <th></th>\n",
              "      <th></th>\n",
              "      <th></th>\n",
              "      <th></th>\n",
              "      <th></th>\n",
              "      <th></th>\n",
              "      <th></th>\n",
              "      <th></th>\n",
              "      <th></th>\n",
              "      <th></th>\n",
              "      <th></th>\n",
              "      <th></th>\n",
              "      <th></th>\n",
              "      <th></th>\n",
              "      <th></th>\n",
              "      <th></th>\n",
              "      <th></th>\n",
              "      <th></th>\n",
              "      <th></th>\n",
              "      <th></th>\n",
              "      <th></th>\n",
              "      <th></th>\n",
              "      <th></th>\n",
              "      <th></th>\n",
              "      <th></th>\n",
              "      <th></th>\n",
              "      <th></th>\n",
              "      <th></th>\n",
              "      <th></th>\n",
              "      <th></th>\n",
              "      <th></th>\n",
              "      <th></th>\n",
              "    </tr>\n",
              "  </thead>\n",
              "  <tbody>\n",
              "    <tr>\n",
              "      <th>CARD</th>\n",
              "      <td>32.0</td>\n",
              "      <td>2.875949e+05</td>\n",
              "      <td>1.274630e+06</td>\n",
              "      <td>1.0</td>\n",
              "      <td>100.00</td>\n",
              "      <td>300.0</td>\n",
              "      <td>1859.25</td>\n",
              "      <td>7.000000e+06</td>\n",
              "      <td>32.0</td>\n",
              "      <td>2010.937500</td>\n",
              "      <td>2.589526</td>\n",
              "      <td>2006.0</td>\n",
              "      <td>2010.0</td>\n",
              "      <td>2011.0</td>\n",
              "      <td>2012.0</td>\n",
              "      <td>2018.0</td>\n",
              "      <td>32.0</td>\n",
              "      <td>2078.187500</td>\n",
              "      <td>3049.865470</td>\n",
              "      <td>10.0</td>\n",
              "      <td>10.0</td>\n",
              "      <td>350.0</td>\n",
              "      <td>2687.0</td>\n",
              "      <td>10001.0</td>\n",
              "      <td>32.0</td>\n",
              "      <td>1.605983e+07</td>\n",
              "      <td>6.442455e+07</td>\n",
              "      <td>2164.619772</td>\n",
              "      <td>71677.297264</td>\n",
              "      <td>1.651938e+05</td>\n",
              "      <td>6.459298e+05</td>\n",
              "      <td>3.448706e+08</td>\n",
              "      <td>32.0</td>\n",
              "      <td>6.587890e+06</td>\n",
              "      <td>2.247020e+07</td>\n",
              "      <td>14617.869534</td>\n",
              "      <td>201782.770872</td>\n",
              "      <td>3.774359e+05</td>\n",
              "      <td>1.035907e+06</td>\n",
              "      <td>1.165709e+08</td>\n",
              "    </tr>\n",
              "    <tr>\n",
              "      <th>DISC</th>\n",
              "      <td>1458.0</td>\n",
              "      <td>2.933870e+05</td>\n",
              "      <td>4.497318e+06</td>\n",
              "      <td>1.0</td>\n",
              "      <td>675.00</td>\n",
              "      <td>1607.5</td>\n",
              "      <td>6919.50</td>\n",
              "      <td>1.135000e+08</td>\n",
              "      <td>1458.0</td>\n",
              "      <td>2013.170782</td>\n",
              "      <td>3.676380</td>\n",
              "      <td>2005.0</td>\n",
              "      <td>2011.0</td>\n",
              "      <td>2014.0</td>\n",
              "      <td>2016.0</td>\n",
              "      <td>2018.0</td>\n",
              "      <td>1458.0</td>\n",
              "      <td>2878.597394</td>\n",
              "      <td>23234.488205</td>\n",
              "      <td>-5000.0</td>\n",
              "      <td>20.0</td>\n",
              "      <td>200.0</td>\n",
              "      <td>2687.0</td>\n",
              "      <td>510000.0</td>\n",
              "      <td>1458.0</td>\n",
              "      <td>1.132122e+07</td>\n",
              "      <td>1.217721e+08</td>\n",
              "      <td>2164.619772</td>\n",
              "      <td>305951.430678</td>\n",
              "      <td>5.916372e+05</td>\n",
              "      <td>1.794066e+06</td>\n",
              "      <td>2.865355e+09</td>\n",
              "      <td>1458.0</td>\n",
              "      <td>4.511960e+06</td>\n",
              "      <td>2.671390e+07</td>\n",
              "      <td>14617.869534</td>\n",
              "      <td>599221.285527</td>\n",
              "      <td>9.826277e+05</td>\n",
              "      <td>2.258014e+06</td>\n",
              "      <td>5.704686e+08</td>\n",
              "    </tr>\n",
              "    <tr>\n",
              "      <th>HACK</th>\n",
              "      <td>2230.0</td>\n",
              "      <td>2.608258e+06</td>\n",
              "      <td>6.804950e+07</td>\n",
              "      <td>1.0</td>\n",
              "      <td>500.00</td>\n",
              "      <td>2391.0</td>\n",
              "      <td>17100.00</td>\n",
              "      <td>3.000000e+09</td>\n",
              "      <td>2230.0</td>\n",
              "      <td>2014.304484</td>\n",
              "      <td>3.737834</td>\n",
              "      <td>2005.0</td>\n",
              "      <td>2012.0</td>\n",
              "      <td>2016.0</td>\n",
              "      <td>2018.0</td>\n",
              "      <td>2018.0</td>\n",
              "      <td>2230.0</td>\n",
              "      <td>2683.741256</td>\n",
              "      <td>18895.638368</td>\n",
              "      <td>-5000.0</td>\n",
              "      <td>50.0</td>\n",
              "      <td>200.0</td>\n",
              "      <td>2687.0</td>\n",
              "      <td>510000.0</td>\n",
              "      <td>2230.0</td>\n",
              "      <td>4.822670e+07</td>\n",
              "      <td>8.349912e+08</td>\n",
              "      <td>2164.619772</td>\n",
              "      <td>243555.995195</td>\n",
              "      <td>8.000221e+05</td>\n",
              "      <td>3.568278e+06</td>\n",
              "      <td>3.451388e+10</td>\n",
              "      <td>2230.0</td>\n",
              "      <td>1.098595e+07</td>\n",
              "      <td>9.996142e+07</td>\n",
              "      <td>14617.869534</td>\n",
              "      <td>505006.518503</td>\n",
              "      <td>1.232180e+06</td>\n",
              "      <td>3.781742e+06</td>\n",
              "      <td>3.688444e+09</td>\n",
              "    </tr>\n",
              "    <tr>\n",
              "      <th>INSD</th>\n",
              "      <td>377.0</td>\n",
              "      <td>1.766113e+05</td>\n",
              "      <td>1.643265e+06</td>\n",
              "      <td>1.0</td>\n",
              "      <td>70.00</td>\n",
              "      <td>651.0</td>\n",
              "      <td>5372.00</td>\n",
              "      <td>2.820000e+07</td>\n",
              "      <td>377.0</td>\n",
              "      <td>2011.098143</td>\n",
              "      <td>2.854340</td>\n",
              "      <td>2005.0</td>\n",
              "      <td>2010.0</td>\n",
              "      <td>2011.0</td>\n",
              "      <td>2013.0</td>\n",
              "      <td>2018.0</td>\n",
              "      <td>377.0</td>\n",
              "      <td>1772.604775</td>\n",
              "      <td>2962.075200</td>\n",
              "      <td>10.0</td>\n",
              "      <td>10.0</td>\n",
              "      <td>200.0</td>\n",
              "      <td>2687.0</td>\n",
              "      <td>10001.0</td>\n",
              "      <td>377.0</td>\n",
              "      <td>9.253134e+06</td>\n",
              "      <td>6.338342e+07</td>\n",
              "      <td>2164.619772</td>\n",
              "      <td>54658.301438</td>\n",
              "      <td>2.976481e+05</td>\n",
              "      <td>1.480079e+06</td>\n",
              "      <td>9.944225e+08</td>\n",
              "      <td>377.0</td>\n",
              "      <td>4.163534e+06</td>\n",
              "      <td>1.850176e+07</td>\n",
              "      <td>14617.869534</td>\n",
              "      <td>164660.702625</td>\n",
              "      <td>5.869826e+05</td>\n",
              "      <td>1.954617e+06</td>\n",
              "      <td>2.579444e+08</td>\n",
              "    </tr>\n",
              "    <tr>\n",
              "      <th>PORT</th>\n",
              "      <td>874.0</td>\n",
              "      <td>1.254610e+05</td>\n",
              "      <td>1.058661e+06</td>\n",
              "      <td>9.0</td>\n",
              "      <td>941.25</td>\n",
              "      <td>3550.5</td>\n",
              "      <td>18400.00</td>\n",
              "      <td>2.650000e+07</td>\n",
              "      <td>874.0</td>\n",
              "      <td>2009.434783</td>\n",
              "      <td>2.993078</td>\n",
              "      <td>2005.0</td>\n",
              "      <td>2007.0</td>\n",
              "      <td>2009.0</td>\n",
              "      <td>2012.0</td>\n",
              "      <td>2018.0</td>\n",
              "      <td>874.0</td>\n",
              "      <td>2614.296339</td>\n",
              "      <td>17472.827162</td>\n",
              "      <td>-5000.0</td>\n",
              "      <td>50.0</td>\n",
              "      <td>200.0</td>\n",
              "      <td>2687.0</td>\n",
              "      <td>510000.0</td>\n",
              "      <td>874.0</td>\n",
              "      <td>8.910821e+06</td>\n",
              "      <td>4.344554e+07</td>\n",
              "      <td>11497.566448</td>\n",
              "      <td>393910.361231</td>\n",
              "      <td>1.080442e+06</td>\n",
              "      <td>3.772590e+06</td>\n",
              "      <td>9.485244e+08</td>\n",
              "      <td>874.0</td>\n",
              "      <td>5.109540e+06</td>\n",
              "      <td>1.397293e+07</td>\n",
              "      <td>51144.897413</td>\n",
              "      <td>724262.357646</td>\n",
              "      <td>1.543650e+06</td>\n",
              "      <td>3.942988e+06</td>\n",
              "      <td>2.489627e+08</td>\n",
              "    </tr>\n",
              "    <tr>\n",
              "      <th>STAT</th>\n",
              "      <td>184.0</td>\n",
              "      <td>8.823876e+04</td>\n",
              "      <td>4.504837e+05</td>\n",
              "      <td>8.0</td>\n",
              "      <td>692.50</td>\n",
              "      <td>3059.5</td>\n",
              "      <td>16303.50</td>\n",
              "      <td>4.240000e+06</td>\n",
              "      <td>184.0</td>\n",
              "      <td>2008.929348</td>\n",
              "      <td>2.596847</td>\n",
              "      <td>2005.0</td>\n",
              "      <td>2007.0</td>\n",
              "      <td>2008.5</td>\n",
              "      <td>2011.0</td>\n",
              "      <td>2015.0</td>\n",
              "      <td>184.0</td>\n",
              "      <td>4768.304348</td>\n",
              "      <td>37586.513912</td>\n",
              "      <td>-5000.0</td>\n",
              "      <td>10.0</td>\n",
              "      <td>200.0</td>\n",
              "      <td>2687.0</td>\n",
              "      <td>510000.0</td>\n",
              "      <td>184.0</td>\n",
              "      <td>7.455643e+06</td>\n",
              "      <td>2.652977e+07</td>\n",
              "      <td>10513.081015</td>\n",
              "      <td>311951.147088</td>\n",
              "      <td>9.648823e+05</td>\n",
              "      <td>3.440919e+06</td>\n",
              "      <td>2.356024e+08</td>\n",
              "      <td>184.0</td>\n",
              "      <td>4.655268e+06</td>\n",
              "      <td>1.071651e+07</td>\n",
              "      <td>47823.942335</td>\n",
              "      <td>608001.188167</td>\n",
              "      <td>1.418086e+06</td>\n",
              "      <td>3.679847e+06</td>\n",
              "      <td>8.759567e+07</td>\n",
              "    </tr>\n",
              "  </tbody>\n",
              "</table>\n",
              "</div>"
            ],
            "text/plain": [
              "               Total.Records                ...       Amount2              \n",
              "                       count          mean  ...           75%           max\n",
              "Type.of.breach                              ...                            \n",
              "CARD                    32.0  2.875949e+05  ...  1.035907e+06  1.165709e+08\n",
              "DISC                  1458.0  2.933870e+05  ...  2.258014e+06  5.704686e+08\n",
              "HACK                  2230.0  2.608258e+06  ...  3.781742e+06  3.688444e+09\n",
              "INSD                   377.0  1.766113e+05  ...  1.954617e+06  2.579444e+08\n",
              "PORT                   874.0  1.254610e+05  ...  3.942988e+06  2.489627e+08\n",
              "STAT                   184.0  8.823876e+04  ...  3.679847e+06  8.759567e+07\n",
              "\n",
              "[6 rows x 40 columns]"
            ]
          },
          "metadata": {
            "tags": []
          },
          "execution_count": 124
        }
      ]
    },
    {
      "cell_type": "code",
      "metadata": {
        "colab": {
          "base_uri": "https://localhost:8080/",
          "height": 320
        },
        "id": "N7rsdz5aAyYd",
        "outputId": "277de69a-aa98-419e-b660-85f1ca27669f"
      },
      "source": [
        "byComp2 = df.groupby('Type.of.breach')\n",
        "byComp2.describe()"
      ],
      "execution_count": null,
      "outputs": [
        {
          "output_type": "execute_result",
          "data": {
            "text/html": [
              "<div>\n",
              "<style scoped>\n",
              "    .dataframe tbody tr th:only-of-type {\n",
              "        vertical-align: middle;\n",
              "    }\n",
              "\n",
              "    .dataframe tbody tr th {\n",
              "        vertical-align: top;\n",
              "    }\n",
              "\n",
              "    .dataframe thead tr th {\n",
              "        text-align: left;\n",
              "    }\n",
              "\n",
              "    .dataframe thead tr:last-of-type th {\n",
              "        text-align: right;\n",
              "    }\n",
              "</style>\n",
              "<table border=\"1\" class=\"dataframe\">\n",
              "  <thead>\n",
              "    <tr>\n",
              "      <th></th>\n",
              "      <th colspan=\"8\" halign=\"left\">Total.Records</th>\n",
              "      <th colspan=\"8\" halign=\"left\">year</th>\n",
              "      <th colspan=\"8\" halign=\"left\">Nb_Employees</th>\n",
              "      <th colspan=\"8\" halign=\"left\">Amount1</th>\n",
              "      <th colspan=\"8\" halign=\"left\">Amount2</th>\n",
              "    </tr>\n",
              "    <tr>\n",
              "      <th></th>\n",
              "      <th>count</th>\n",
              "      <th>mean</th>\n",
              "      <th>std</th>\n",
              "      <th>min</th>\n",
              "      <th>25%</th>\n",
              "      <th>50%</th>\n",
              "      <th>75%</th>\n",
              "      <th>max</th>\n",
              "      <th>count</th>\n",
              "      <th>mean</th>\n",
              "      <th>std</th>\n",
              "      <th>min</th>\n",
              "      <th>25%</th>\n",
              "      <th>50%</th>\n",
              "      <th>75%</th>\n",
              "      <th>max</th>\n",
              "      <th>count</th>\n",
              "      <th>mean</th>\n",
              "      <th>std</th>\n",
              "      <th>min</th>\n",
              "      <th>25%</th>\n",
              "      <th>50%</th>\n",
              "      <th>75%</th>\n",
              "      <th>max</th>\n",
              "      <th>count</th>\n",
              "      <th>mean</th>\n",
              "      <th>std</th>\n",
              "      <th>min</th>\n",
              "      <th>25%</th>\n",
              "      <th>50%</th>\n",
              "      <th>75%</th>\n",
              "      <th>max</th>\n",
              "      <th>count</th>\n",
              "      <th>mean</th>\n",
              "      <th>std</th>\n",
              "      <th>min</th>\n",
              "      <th>25%</th>\n",
              "      <th>50%</th>\n",
              "      <th>75%</th>\n",
              "      <th>max</th>\n",
              "    </tr>\n",
              "    <tr>\n",
              "      <th>Type.of.breach</th>\n",
              "      <th></th>\n",
              "      <th></th>\n",
              "      <th></th>\n",
              "      <th></th>\n",
              "      <th></th>\n",
              "      <th></th>\n",
              "      <th></th>\n",
              "      <th></th>\n",
              "      <th></th>\n",
              "      <th></th>\n",
              "      <th></th>\n",
              "      <th></th>\n",
              "      <th></th>\n",
              "      <th></th>\n",
              "      <th></th>\n",
              "      <th></th>\n",
              "      <th></th>\n",
              "      <th></th>\n",
              "      <th></th>\n",
              "      <th></th>\n",
              "      <th></th>\n",
              "      <th></th>\n",
              "      <th></th>\n",
              "      <th></th>\n",
              "      <th></th>\n",
              "      <th></th>\n",
              "      <th></th>\n",
              "      <th></th>\n",
              "      <th></th>\n",
              "      <th></th>\n",
              "      <th></th>\n",
              "      <th></th>\n",
              "      <th></th>\n",
              "      <th></th>\n",
              "      <th></th>\n",
              "      <th></th>\n",
              "      <th></th>\n",
              "      <th></th>\n",
              "      <th></th>\n",
              "      <th></th>\n",
              "    </tr>\n",
              "  </thead>\n",
              "  <tbody>\n",
              "    <tr>\n",
              "      <th>CARD</th>\n",
              "      <td>32.0</td>\n",
              "      <td>2.875949e+05</td>\n",
              "      <td>1.274630e+06</td>\n",
              "      <td>1.0</td>\n",
              "      <td>100.00</td>\n",
              "      <td>300.0</td>\n",
              "      <td>1859.25</td>\n",
              "      <td>7.000000e+06</td>\n",
              "      <td>32.0</td>\n",
              "      <td>2010.937500</td>\n",
              "      <td>2.589526</td>\n",
              "      <td>2006.0</td>\n",
              "      <td>2010.0</td>\n",
              "      <td>2011.0</td>\n",
              "      <td>2012.0</td>\n",
              "      <td>2018.0</td>\n",
              "      <td>32.0</td>\n",
              "      <td>2078.187500</td>\n",
              "      <td>3049.865470</td>\n",
              "      <td>10.0</td>\n",
              "      <td>10.0</td>\n",
              "      <td>350.0</td>\n",
              "      <td>2687.0</td>\n",
              "      <td>10001.0</td>\n",
              "      <td>32.0</td>\n",
              "      <td>1.605983e+07</td>\n",
              "      <td>6.442455e+07</td>\n",
              "      <td>2164.619772</td>\n",
              "      <td>71677.297264</td>\n",
              "      <td>1.651938e+05</td>\n",
              "      <td>6.459298e+05</td>\n",
              "      <td>3.448706e+08</td>\n",
              "      <td>32.0</td>\n",
              "      <td>6.587890e+06</td>\n",
              "      <td>2.247020e+07</td>\n",
              "      <td>14617.869534</td>\n",
              "      <td>201782.770872</td>\n",
              "      <td>3.774359e+05</td>\n",
              "      <td>1.035907e+06</td>\n",
              "      <td>1.165709e+08</td>\n",
              "    </tr>\n",
              "    <tr>\n",
              "      <th>DISC</th>\n",
              "      <td>1458.0</td>\n",
              "      <td>2.933870e+05</td>\n",
              "      <td>4.497318e+06</td>\n",
              "      <td>1.0</td>\n",
              "      <td>675.00</td>\n",
              "      <td>1607.5</td>\n",
              "      <td>6919.50</td>\n",
              "      <td>1.135000e+08</td>\n",
              "      <td>1458.0</td>\n",
              "      <td>2013.170782</td>\n",
              "      <td>3.676380</td>\n",
              "      <td>2005.0</td>\n",
              "      <td>2011.0</td>\n",
              "      <td>2014.0</td>\n",
              "      <td>2016.0</td>\n",
              "      <td>2018.0</td>\n",
              "      <td>1458.0</td>\n",
              "      <td>2878.597394</td>\n",
              "      <td>23234.488205</td>\n",
              "      <td>-5000.0</td>\n",
              "      <td>20.0</td>\n",
              "      <td>200.0</td>\n",
              "      <td>2687.0</td>\n",
              "      <td>510000.0</td>\n",
              "      <td>1458.0</td>\n",
              "      <td>1.132122e+07</td>\n",
              "      <td>1.217721e+08</td>\n",
              "      <td>2164.619772</td>\n",
              "      <td>305951.430678</td>\n",
              "      <td>5.916372e+05</td>\n",
              "      <td>1.794066e+06</td>\n",
              "      <td>2.865355e+09</td>\n",
              "      <td>1458.0</td>\n",
              "      <td>4.511960e+06</td>\n",
              "      <td>2.671390e+07</td>\n",
              "      <td>14617.869534</td>\n",
              "      <td>599221.285527</td>\n",
              "      <td>9.826277e+05</td>\n",
              "      <td>2.258014e+06</td>\n",
              "      <td>5.704686e+08</td>\n",
              "    </tr>\n",
              "    <tr>\n",
              "      <th>HACK</th>\n",
              "      <td>2230.0</td>\n",
              "      <td>2.608258e+06</td>\n",
              "      <td>6.804950e+07</td>\n",
              "      <td>1.0</td>\n",
              "      <td>500.00</td>\n",
              "      <td>2391.0</td>\n",
              "      <td>17100.00</td>\n",
              "      <td>3.000000e+09</td>\n",
              "      <td>2230.0</td>\n",
              "      <td>2014.304484</td>\n",
              "      <td>3.737834</td>\n",
              "      <td>2005.0</td>\n",
              "      <td>2012.0</td>\n",
              "      <td>2016.0</td>\n",
              "      <td>2018.0</td>\n",
              "      <td>2018.0</td>\n",
              "      <td>2230.0</td>\n",
              "      <td>2683.741256</td>\n",
              "      <td>18895.638368</td>\n",
              "      <td>-5000.0</td>\n",
              "      <td>50.0</td>\n",
              "      <td>200.0</td>\n",
              "      <td>2687.0</td>\n",
              "      <td>510000.0</td>\n",
              "      <td>2230.0</td>\n",
              "      <td>4.822670e+07</td>\n",
              "      <td>8.349912e+08</td>\n",
              "      <td>2164.619772</td>\n",
              "      <td>243555.995195</td>\n",
              "      <td>8.000221e+05</td>\n",
              "      <td>3.568278e+06</td>\n",
              "      <td>3.451388e+10</td>\n",
              "      <td>2230.0</td>\n",
              "      <td>1.098595e+07</td>\n",
              "      <td>9.996142e+07</td>\n",
              "      <td>14617.869534</td>\n",
              "      <td>505006.518503</td>\n",
              "      <td>1.232180e+06</td>\n",
              "      <td>3.781742e+06</td>\n",
              "      <td>3.688444e+09</td>\n",
              "    </tr>\n",
              "    <tr>\n",
              "      <th>INSD</th>\n",
              "      <td>377.0</td>\n",
              "      <td>1.766113e+05</td>\n",
              "      <td>1.643265e+06</td>\n",
              "      <td>1.0</td>\n",
              "      <td>70.00</td>\n",
              "      <td>651.0</td>\n",
              "      <td>5372.00</td>\n",
              "      <td>2.820000e+07</td>\n",
              "      <td>377.0</td>\n",
              "      <td>2011.098143</td>\n",
              "      <td>2.854340</td>\n",
              "      <td>2005.0</td>\n",
              "      <td>2010.0</td>\n",
              "      <td>2011.0</td>\n",
              "      <td>2013.0</td>\n",
              "      <td>2018.0</td>\n",
              "      <td>377.0</td>\n",
              "      <td>1772.604775</td>\n",
              "      <td>2962.075200</td>\n",
              "      <td>10.0</td>\n",
              "      <td>10.0</td>\n",
              "      <td>200.0</td>\n",
              "      <td>2687.0</td>\n",
              "      <td>10001.0</td>\n",
              "      <td>377.0</td>\n",
              "      <td>9.253134e+06</td>\n",
              "      <td>6.338342e+07</td>\n",
              "      <td>2164.619772</td>\n",
              "      <td>54658.301438</td>\n",
              "      <td>2.976481e+05</td>\n",
              "      <td>1.480079e+06</td>\n",
              "      <td>9.944225e+08</td>\n",
              "      <td>377.0</td>\n",
              "      <td>4.163534e+06</td>\n",
              "      <td>1.850176e+07</td>\n",
              "      <td>14617.869534</td>\n",
              "      <td>164660.702625</td>\n",
              "      <td>5.869826e+05</td>\n",
              "      <td>1.954617e+06</td>\n",
              "      <td>2.579444e+08</td>\n",
              "    </tr>\n",
              "    <tr>\n",
              "      <th>PORT</th>\n",
              "      <td>874.0</td>\n",
              "      <td>1.254610e+05</td>\n",
              "      <td>1.058661e+06</td>\n",
              "      <td>9.0</td>\n",
              "      <td>941.25</td>\n",
              "      <td>3550.5</td>\n",
              "      <td>18400.00</td>\n",
              "      <td>2.650000e+07</td>\n",
              "      <td>874.0</td>\n",
              "      <td>2009.434783</td>\n",
              "      <td>2.993078</td>\n",
              "      <td>2005.0</td>\n",
              "      <td>2007.0</td>\n",
              "      <td>2009.0</td>\n",
              "      <td>2012.0</td>\n",
              "      <td>2018.0</td>\n",
              "      <td>874.0</td>\n",
              "      <td>2614.296339</td>\n",
              "      <td>17472.827162</td>\n",
              "      <td>-5000.0</td>\n",
              "      <td>50.0</td>\n",
              "      <td>200.0</td>\n",
              "      <td>2687.0</td>\n",
              "      <td>510000.0</td>\n",
              "      <td>874.0</td>\n",
              "      <td>8.910821e+06</td>\n",
              "      <td>4.344554e+07</td>\n",
              "      <td>11497.566448</td>\n",
              "      <td>393910.361231</td>\n",
              "      <td>1.080442e+06</td>\n",
              "      <td>3.772590e+06</td>\n",
              "      <td>9.485244e+08</td>\n",
              "      <td>874.0</td>\n",
              "      <td>5.109540e+06</td>\n",
              "      <td>1.397293e+07</td>\n",
              "      <td>51144.897413</td>\n",
              "      <td>724262.357646</td>\n",
              "      <td>1.543650e+06</td>\n",
              "      <td>3.942988e+06</td>\n",
              "      <td>2.489627e+08</td>\n",
              "    </tr>\n",
              "    <tr>\n",
              "      <th>STAT</th>\n",
              "      <td>184.0</td>\n",
              "      <td>8.823876e+04</td>\n",
              "      <td>4.504837e+05</td>\n",
              "      <td>8.0</td>\n",
              "      <td>692.50</td>\n",
              "      <td>3059.5</td>\n",
              "      <td>16303.50</td>\n",
              "      <td>4.240000e+06</td>\n",
              "      <td>184.0</td>\n",
              "      <td>2008.929348</td>\n",
              "      <td>2.596847</td>\n",
              "      <td>2005.0</td>\n",
              "      <td>2007.0</td>\n",
              "      <td>2008.5</td>\n",
              "      <td>2011.0</td>\n",
              "      <td>2015.0</td>\n",
              "      <td>184.0</td>\n",
              "      <td>4768.304348</td>\n",
              "      <td>37586.513912</td>\n",
              "      <td>-5000.0</td>\n",
              "      <td>10.0</td>\n",
              "      <td>200.0</td>\n",
              "      <td>2687.0</td>\n",
              "      <td>510000.0</td>\n",
              "      <td>184.0</td>\n",
              "      <td>7.455643e+06</td>\n",
              "      <td>2.652977e+07</td>\n",
              "      <td>10513.081015</td>\n",
              "      <td>311951.147088</td>\n",
              "      <td>9.648823e+05</td>\n",
              "      <td>3.440919e+06</td>\n",
              "      <td>2.356024e+08</td>\n",
              "      <td>184.0</td>\n",
              "      <td>4.655268e+06</td>\n",
              "      <td>1.071651e+07</td>\n",
              "      <td>47823.942335</td>\n",
              "      <td>608001.188167</td>\n",
              "      <td>1.418086e+06</td>\n",
              "      <td>3.679847e+06</td>\n",
              "      <td>8.759567e+07</td>\n",
              "    </tr>\n",
              "  </tbody>\n",
              "</table>\n",
              "</div>"
            ],
            "text/plain": [
              "               Total.Records                ...       Amount2              \n",
              "                       count          mean  ...           75%           max\n",
              "Type.of.breach                              ...                            \n",
              "CARD                    32.0  2.875949e+05  ...  1.035907e+06  1.165709e+08\n",
              "DISC                  1458.0  2.933870e+05  ...  2.258014e+06  5.704686e+08\n",
              "HACK                  2230.0  2.608258e+06  ...  3.781742e+06  3.688444e+09\n",
              "INSD                   377.0  1.766113e+05  ...  1.954617e+06  2.579444e+08\n",
              "PORT                   874.0  1.254610e+05  ...  3.942988e+06  2.489627e+08\n",
              "STAT                   184.0  8.823876e+04  ...  3.679847e+06  8.759567e+07\n",
              "\n",
              "[6 rows x 40 columns]"
            ]
          },
          "metadata": {
            "tags": []
          },
          "execution_count": 113
        }
      ]
    },
    {
      "cell_type": "code",
      "metadata": {
        "colab": {
          "base_uri": "https://localhost:8080/",
          "height": 308
        },
        "id": "uDY-8DUp7lod",
        "outputId": "c39729d6-4b92-4aa7-dee7-9ebbecbdf066"
      },
      "source": [
        "source = ['Nonprofit organization', 'Media', 'US GA: Federal - HIPAA', 'US GA: State']\n",
        "df_me = df.loc[df['Gather.Information.Source'].isin(source)]\n",
        "df_me.groupby(['year', 'Gather.Information.Source'])['Total.Records'].mean().unstack().plot() "
      ],
      "execution_count": null,
      "outputs": [
        {
          "output_type": "execute_result",
          "data": {
            "text/plain": [
              "<matplotlib.axes._subplots.AxesSubplot at 0x7fd38abb7dd0>"
            ]
          },
          "metadata": {
            "tags": []
          },
          "execution_count": 12
        },
        {
          "output_type": "display_data",
          "data": {
            "image/png": "[encoded data removed]",
            "text/plain": [
              "<Figure size 432x288 with 1 Axes>"
            ]
          },
          "metadata": {
            "tags": [],
            "needs_background": "light"
          }
        }
      ]
    },
    {
      "cell_type": "code",
      "metadata": {
        "colab": {
          "base_uri": "https://localhost:8080/",
          "height": 308
        },
        "id": "R8QSlhSf9x8Z",
        "outputId": "8249e11a-c5c4-4941-82d1-c9b26df4b74f"
      },
      "source": [
        "source = ['Nonprofit organization', 'Media', 'US GA: Federal - HIPAA', 'US GA: State']\n",
        "df_me = df.loc[df['Gather.Information.Source'].isin(source)]\n",
        "df_me.groupby(['year', 'Gather.Information.Source'])['Total.Records'].mean().unstack().plot() "
      ],
      "execution_count": null,
      "outputs": [
        {
          "output_type": "execute_result",
          "data": {
            "text/plain": [
              "<matplotlib.axes._subplots.AxesSubplot at 0x7fa306bc2190>"
            ]
          },
          "metadata": {
            "tags": []
          },
          "execution_count": 114
        },
        {
          "output_type": "display_data",
          "data": {
            "image/png": "[encoded data removed]",
            "text/plain": [
              "<Figure size 432x288 with 1 Axes>"
            ]
          },
          "metadata": {
            "tags": []
          }
        }
      ]
    },
    {
      "cell_type": "code",
      "metadata": {
        "colab": {
          "base_uri": "https://localhost:8080/",
          "height": 308
        },
        "id": "3G4BK5ud_rCK",
        "outputId": "fa132b0f-2ed4-41a1-f743-3a0fe9914fb7"
      },
      "source": [
        "source = ['BSF', 'BSO', 'BSR', 'EDU', 'GOV', 'MED','NGO', 'Unknown']\n",
        "df_me1 = df.loc[df['Type.of.organization'].isin(source)]\n",
        "df_me1.groupby(['year', 'Type.of.organization'])['Total.Records'].mean().unstack().plot() "
      ],
      "execution_count": null,
      "outputs": [
        {
          "output_type": "execute_result",
          "data": {
            "text/plain": [
              "<matplotlib.axes._subplots.AxesSubplot at 0x7fa3065dfcd0>"
            ]
          },
          "metadata": {
            "tags": []
          },
          "execution_count": 119
        },
        {
          "output_type": "display_data",
          "data": {
            "image/png": "[encoded data removed]",
            "text/plain": [
              "<Figure size 432x288 with 1 Axes>"
            ]
          },
          "metadata": {
            "tags": []
          }
        }
      ]
    },
    {
      "cell_type": "code",
      "metadata": {
        "colab": {
          "base_uri": "https://localhost:8080/",
          "height": 326
        },
        "id": "qprv8SFEAtPK",
        "outputId": "685c2657-c8d9-47c1-b8f4-f45abb25e404"
      },
      "source": [
        "plt.axis\n",
        "source = ['CARD', 'DISC', 'HACK', 'INSD', 'PHYS', 'PORT','STAT']\n",
        "df_me1 = df.loc[df['Type.of.breach'].isin(source)]\n",
        "np.array(df_me1.groupby(['year', 'Type.of.breach'])['Total.Records'].mean().unstack().plot())"
      ],
      "execution_count": null,
      "outputs": [
        {
          "output_type": "execute_result",
          "data": {
            "text/plain": [
              "array(<matplotlib.axes._subplots.AxesSubplot object at 0x7fa30667d350>,\n",
              "      dtype=object)"
            ]
          },
          "metadata": {
            "tags": []
          },
          "execution_count": 120
        },
        {
          "output_type": "display_data",
          "data": {
            "image/png": "[encoded data removed]",
            "text/plain": [
              "<Figure size 432x288 with 1 Axes>"
            ]
          },
          "metadata": {
            "tags": []
          }
        }
      ]
    },
    {
      "cell_type": "code",
      "metadata": {
        "id": "hzRYIfAyLXBJ"
      },
      "source": [
        "dfo = df['Company'].unique()"
      ],
      "execution_count": null,
      "outputs": []
    },
    {
      "cell_type": "code",
      "metadata": {
        "colab": {
          "base_uri": "https://localhost:8080/"
        },
        "id": "XP8Hk4p7mjsX",
        "outputId": "c21c4889-7704-4bbb-d31e-fba1548da42d"
      },
      "source": [
        "dfo.shape"
      ],
      "execution_count": null,
      "outputs": [
        {
          "output_type": "execute_result",
          "data": {
            "text/plain": [
              "(5474,)"
            ]
          },
          "metadata": {
            "tags": []
          },
          "execution_count": 103
        }
      ]
    },
    {
      "cell_type": "code",
      "metadata": {
        "id": "OodwMY9JixGS"
      },
      "source": [
        "df1=df[df['Gather.Information.Source']=='Nonprofit organization']"
      ],
      "execution_count": null,
      "outputs": []
    },
    {
      "cell_type": "code",
      "metadata": {
        "id": "17QGqLsYiaqM"
      },
      "source": [
        "df2=df[df['Gather.Information.Source']=='Media']"
      ],
      "execution_count": null,
      "outputs": []
    },
    {
      "cell_type": "code",
      "metadata": {
        "id": "zJMsmjD9jCLK"
      },
      "source": [
        "df3=df[df['Gather.Information.Source']=='US GA: Federal - HIPAA']"
      ],
      "execution_count": null,
      "outputs": []
    },
    {
      "cell_type": "code",
      "metadata": {
        "id": "rdixNXODjDGe"
      },
      "source": [
        "df4=df[df['Gather.Information.Source']=='US GA: State']"
      ],
      "execution_count": null,
      "outputs": []
    },
    {
      "cell_type": "code",
      "metadata": {
        "id": "nooqls7WjlON"
      },
      "source": [
        "df5=df[df['Gather.Information.Source']=='nan']"
      ],
      "execution_count": null,
      "outputs": []
    },
    {
      "cell_type": "code",
      "metadata": {
        "colab": {
          "base_uri": "https://localhost:8080/",
          "height": 49
        },
        "id": "1AcjOn9jkXbJ",
        "outputId": "40513606-b6df-40cd-83e7-a5d08469f170"
      },
      "source": [
        ""
      ],
      "execution_count": null,
      "outputs": [
        {
          "output_type": "execute_result",
          "data": {
            "text/html": [
              "<div>\n",
              "<style scoped>\n",
              "    .dataframe tbody tr th:only-of-type {\n",
              "        vertical-align: middle;\n",
              "    }\n",
              "\n",
              "    .dataframe tbody tr th {\n",
              "        vertical-align: top;\n",
              "    }\n",
              "\n",
              "    .dataframe thead th {\n",
              "        text-align: right;\n",
              "    }\n",
              "</style>\n",
              "<table border=\"1\" class=\"dataframe\">\n",
              "  <thead>\n",
              "    <tr style=\"text-align: right;\">\n",
              "      <th></th>\n",
              "      <th>Unnamed: 0</th>\n",
              "      <th>Company</th>\n",
              "      <th>Date.Made.Public</th>\n",
              "      <th>Total.Records</th>\n",
              "      <th>Type.of.breach</th>\n",
              "      <th>Type.of.organization</th>\n",
              "      <th>Gather.Information.Source</th>\n",
              "      <th>year</th>\n",
              "    </tr>\n",
              "  </thead>\n",
              "  <tbody>\n",
              "  </tbody>\n",
              "</table>\n",
              "</div>"
            ],
            "text/plain": [
              "Empty DataFrame\n",
              "Columns: [Unnamed: 0, Company, Date.Made.Public, Total.Records, Type.of.breach, Type.of.organization, Gather.Information.Source, year]\n",
              "Index: []"
            ]
          },
          "metadata": {
            "tags": []
          },
          "execution_count": 96
        }
      ]
    },
    {
      "cell_type": "code",
      "metadata": {
        "colab": {
          "base_uri": "https://localhost:8080/",
          "height": 241
        },
        "id": "z6M7RMa1cYO9",
        "outputId": "d2aaea5f-ed04-4f95-9e03-86d57a5d78ba"
      },
      "source": [
        "df1.head()"
      ],
      "execution_count": null,
      "outputs": [
        {
          "output_type": "execute_result",
          "data": {
            "text/html": [
              "<div>\n",
              "<style scoped>\n",
              "    .dataframe tbody tr th:only-of-type {\n",
              "        vertical-align: middle;\n",
              "    }\n",
              "\n",
              "    .dataframe tbody tr th {\n",
              "        vertical-align: top;\n",
              "    }\n",
              "\n",
              "    .dataframe thead th {\n",
              "        text-align: right;\n",
              "    }\n",
              "</style>\n",
              "<table border=\"1\" class=\"dataframe\">\n",
              "  <thead>\n",
              "    <tr style=\"text-align: right;\">\n",
              "      <th></th>\n",
              "      <th>Unnamed: 0</th>\n",
              "      <th>Company</th>\n",
              "      <th>Date.Made.Public</th>\n",
              "      <th>Total.Records</th>\n",
              "      <th>Type.of.breach</th>\n",
              "      <th>Type.of.organization</th>\n",
              "      <th>Gather.Information.Source</th>\n",
              "      <th>year</th>\n",
              "    </tr>\n",
              "  </thead>\n",
              "  <tbody>\n",
              "    <tr>\n",
              "      <th>0</th>\n",
              "      <td>1</td>\n",
              "      <td>bullitt county public schools</td>\n",
              "      <td>2009-10-21</td>\n",
              "      <td>676.0</td>\n",
              "      <td>DISC</td>\n",
              "      <td>EDU</td>\n",
              "      <td>Nonprofit organization</td>\n",
              "      <td>2009</td>\n",
              "    </tr>\n",
              "    <tr>\n",
              "      <th>1</th>\n",
              "      <td>2</td>\n",
              "      <td>roane state community college</td>\n",
              "      <td>2009-10-21</td>\n",
              "      <td>14783.0</td>\n",
              "      <td>PORT</td>\n",
              "      <td>EDU</td>\n",
              "      <td>Nonprofit organization</td>\n",
              "      <td>2009</td>\n",
              "    </tr>\n",
              "    <tr>\n",
              "      <th>2</th>\n",
              "      <td>3</td>\n",
              "      <td>halifax health</td>\n",
              "      <td>2009-10-15</td>\n",
              "      <td>33000.0</td>\n",
              "      <td>PORT</td>\n",
              "      <td>MED</td>\n",
              "      <td>Nonprofit organization</td>\n",
              "      <td>2009</td>\n",
              "    </tr>\n",
              "    <tr>\n",
              "      <th>3</th>\n",
              "      <td>4</td>\n",
              "      <td>suffolk community college</td>\n",
              "      <td>2009-10-04</td>\n",
              "      <td>300.0</td>\n",
              "      <td>DISC</td>\n",
              "      <td>EDU</td>\n",
              "      <td>Nonprofit organization</td>\n",
              "      <td>2009</td>\n",
              "    </tr>\n",
              "    <tr>\n",
              "      <th>4</th>\n",
              "      <td>5</td>\n",
              "      <td>penrose hospital</td>\n",
              "      <td>2009-09-28</td>\n",
              "      <td>175.0</td>\n",
              "      <td>PHYS</td>\n",
              "      <td>MED</td>\n",
              "      <td>Nonprofit organization</td>\n",
              "      <td>2009</td>\n",
              "    </tr>\n",
              "  </tbody>\n",
              "</table>\n",
              "</div>"
            ],
            "text/plain": [
              "   Unnamed: 0                        Company  ... Gather.Information.Source  year\n",
              "0           1  bullitt county public schools  ...    Nonprofit organization  2009\n",
              "1           2  roane state community college  ...    Nonprofit organization  2009\n",
              "2           3                 halifax health  ...    Nonprofit organization  2009\n",
              "3           4      suffolk community college  ...    Nonprofit organization  2009\n",
              "4           5               penrose hospital  ...    Nonprofit organization  2009\n",
              "\n",
              "[5 rows x 8 columns]"
            ]
          },
          "metadata": {
            "tags": []
          },
          "execution_count": 69
        }
      ]
    },
    {
      "cell_type": "code",
      "metadata": {
        "colab": {
          "base_uri": "https://localhost:8080/",
          "height": 368
        },
        "id": "wt2ECumVdDEx",
        "outputId": "b34ae868-0aae-4614-8ac9-a28f91dddf59"
      },
      "source": [
        "plt.hist([df1['Total.Records'],df2['Total.Records'],df3['Total.Records'],df4['Total.Records'],df5['Total.Records']], bins = [500,1000,1500,2000, 2500, 3000], \n",
        "         color = ['green', 'yellow', 'black','blue','red'], label=[\"Non prpfit\", \"Media\", \"US GA: Federal - HIPAA\", \"US GA: State\" ])\n",
        "plt.xlabel(\"Total Records\")\n",
        "plt.ylabel(\"Total number Company\")\n",
        "plt.title(\"Total records analysis\")\n",
        "plt.legend()"
      ],
      "execution_count": null,
      "outputs": [
        {
          "output_type": "stream",
          "text": [
            "/usr/local/lib/python3.7/dist-packages/numpy/core/_asarray.py:83: VisibleDeprecationWarning: Creating an ndarray from ragged nested sequences (which is a list-or-tuple of lists-or-tuples-or ndarrays with different lengths or shapes) is deprecated. If you meant to do this, you must specify 'dtype=object' when creating the ndarray\n",
            "  return array(a, dtype, copy=False, order=order)\n"
          ],
          "name": "stderr"
        },
        {
          "output_type": "execute_result",
          "data": {
            "text/plain": [
              "<matplotlib.legend.Legend at 0x7f77a1646950>"
            ]
          },
          "metadata": {
            "tags": []
          },
          "execution_count": 13
        },
        {
          "output_type": "display_data",
          "data": {
            "image/png": "[encoded data removed]",
            "text/plain": [
              "<Figure size 432x288 with 1 Axes>"
            ]
          },
          "metadata": {
            "tags": []
          }
        }
      ]
    },
    {
      "cell_type": "code",
      "metadata": {
        "colab": {
          "base_uri": "https://localhost:8080/",
          "height": 265
        },
        "id": "X-FScXaRoAmW",
        "outputId": "6930ae6b-461c-437e-be5d-aad52ad8b8b7"
      },
      "source": [
        "plt.plot(df1['year'], df1['Total.Records'], marker=\".\", linestyle=\"\")\n",
        "plt.yscale(\"log\")"
      ],
      "execution_count": null,
      "outputs": [
        {
          "output_type": "display_data",
          "data": {
            "image/png": "[encoded data removed]",
            "text/plain": [
              "<Figure size 432x288 with 1 Axes>"
            ]
          },
          "metadata": {
            "tags": []
          }
        }
      ]
    },
    {
      "cell_type": "code",
      "metadata": {
        "colab": {
          "base_uri": "https://localhost:8080/",
          "height": 265
        },
        "id": "F_uwH74BvgkM",
        "outputId": "8dc34bda-ad18-437b-d3c7-d772a975a0c3"
      },
      "source": [
        "plt.plot(df2['year'], df2['Total.Records'], marker=\".\", linestyle=\"\")\n",
        "plt.yscale(\"log\")"
      ],
      "execution_count": null,
      "outputs": [
        {
          "output_type": "display_data",
          "data": {
            "image/png": "[encoded data removed]",
            "text/plain": [
              "<Figure size 432x288 with 1 Axes>"
            ]
          },
          "metadata": {
            "tags": []
          }
        }
      ]
    },
    {
      "cell_type": "code",
      "metadata": {
        "colab": {
          "base_uri": "https://localhost:8080/",
          "height": 265
        },
        "id": "TUBGYSAxvyN7",
        "outputId": "36aad829-8580-4c62-9666-ab17fa1aa5ea"
      },
      "source": [
        "plt.plot(df3['year'], df3['Total.Records'], marker=\".\", linestyle=\"\")\n",
        "plt.yscale(\"log\")"
      ],
      "execution_count": null,
      "outputs": [
        {
          "output_type": "display_data",
          "data": {
            "image/png": "[encoded data removed]",
            "text/plain": [
              "<Figure size 432x288 with 1 Axes>"
            ]
          },
          "metadata": {
            "tags": []
          }
        }
      ]
    },
    {
      "cell_type": "code",
      "metadata": {
        "colab": {
          "base_uri": "https://localhost:8080/",
          "height": 265
        },
        "id": "PMM61yHHxT62",
        "outputId": "fe2e4f21-7722-4f0f-a320-a904f6f21fd3"
      },
      "source": [
        "plt.plot(df4['year'], df4['Total.Records'], marker=\".\", linestyle=\"\")\n",
        "plt.yscale(\"log\")"
      ],
      "execution_count": null,
      "outputs": [
        {
          "output_type": "display_data",
          "data": {
            "image/png": "[encoded data removed]",
            "text/plain": [
              "<Figure size 432x288 with 1 Axes>"
            ]
          },
          "metadata": {
            "tags": []
          }
        }
      ]
    },
    {
      "cell_type": "code",
      "metadata": {
        "colab": {
          "base_uri": "https://localhost:8080/",
          "height": 265
        },
        "id": "h75zDhHYz6Hg",
        "outputId": "9eeccb20-3114-4eb4-da24-c50ffd24c967"
      },
      "source": [
        "plt.bar(df4['year'], df4['Total.Records'])\n",
        "plt.yscale(\"log\", basey=10, subsy=[2,3,4])"
      ],
      "execution_count": null,
      "outputs": [
        {
          "output_type": "display_data",
          "data": {
            "image/png": "[encoded data removed]",
            "text/plain": [
              "<Figure size 432x288 with 1 Axes>"
            ]
          },
          "metadata": {
            "tags": []
          }
        }
      ]
    },
    {
      "cell_type": "code",
      "metadata": {
        "colab": {
          "base_uri": "https://localhost:8080/"
        },
        "id": "W79ShPCGpxdT",
        "outputId": "43d60c48-cf1e-4c7b-fe99-74892637a5b0"
      },
      "source": [
        "# Nombre total de valeurs manquantes pour chaque caractéristique\n",
        "print(df.isnull().sum())"
      ],
      "execution_count": null,
      "outputs": [
        {
          "output_type": "stream",
          "text": [
            "Unnamed: 0                     0\n",
            "Company                        0\n",
            "Date.Made.Public               0\n",
            "Total.Records                 35\n",
            "Type.of.breach               635\n",
            "Type.of.organization           0\n",
            "Gather.Information.Source     34\n",
            "year                           0\n",
            "dtype: int64\n"
          ],
          "name": "stdout"
        }
      ]
    },
    {
      "cell_type": "code",
      "metadata": {
        "colab": {
          "base_uri": "https://localhost:8080/",
          "height": 241
        },
        "id": "knCGezahY3nY",
        "outputId": "92daaf2a-f619-45f9-ccb2-ec0c328bfaf6"
      },
      "source": [
        "df.head(5)"
      ],
      "execution_count": null,
      "outputs": [
        {
          "output_type": "execute_result",
          "data": {
            "text/html": [
              "<div>\n",
              "<style scoped>\n",
              "    .dataframe tbody tr th:only-of-type {\n",
              "        vertical-align: middle;\n",
              "    }\n",
              "\n",
              "    .dataframe tbody tr th {\n",
              "        vertical-align: top;\n",
              "    }\n",
              "\n",
              "    .dataframe thead th {\n",
              "        text-align: right;\n",
              "    }\n",
              "</style>\n",
              "<table border=\"1\" class=\"dataframe\">\n",
              "  <thead>\n",
              "    <tr style=\"text-align: right;\">\n",
              "      <th></th>\n",
              "      <th>Unnamed: 0</th>\n",
              "      <th>Company</th>\n",
              "      <th>Date.Made.Public</th>\n",
              "      <th>Total.Records</th>\n",
              "      <th>Type.of.breach</th>\n",
              "      <th>Type.of.organization</th>\n",
              "      <th>Gather.Information.Source</th>\n",
              "      <th>year</th>\n",
              "    </tr>\n",
              "  </thead>\n",
              "  <tbody>\n",
              "    <tr>\n",
              "      <th>0</th>\n",
              "      <td>1</td>\n",
              "      <td>bullitt county public schools</td>\n",
              "      <td>2009-10-21</td>\n",
              "      <td>676.0</td>\n",
              "      <td>DISC</td>\n",
              "      <td>EDU</td>\n",
              "      <td>Nonprofit organization</td>\n",
              "      <td>2009</td>\n",
              "    </tr>\n",
              "    <tr>\n",
              "      <th>1</th>\n",
              "      <td>2</td>\n",
              "      <td>roane state community college</td>\n",
              "      <td>2009-10-21</td>\n",
              "      <td>14783.0</td>\n",
              "      <td>PORT</td>\n",
              "      <td>EDU</td>\n",
              "      <td>Nonprofit organization</td>\n",
              "      <td>2009</td>\n",
              "    </tr>\n",
              "    <tr>\n",
              "      <th>2</th>\n",
              "      <td>3</td>\n",
              "      <td>halifax health</td>\n",
              "      <td>2009-10-15</td>\n",
              "      <td>33000.0</td>\n",
              "      <td>PORT</td>\n",
              "      <td>MED</td>\n",
              "      <td>Nonprofit organization</td>\n",
              "      <td>2009</td>\n",
              "    </tr>\n",
              "    <tr>\n",
              "      <th>3</th>\n",
              "      <td>4</td>\n",
              "      <td>suffolk community college</td>\n",
              "      <td>2009-10-04</td>\n",
              "      <td>300.0</td>\n",
              "      <td>DISC</td>\n",
              "      <td>EDU</td>\n",
              "      <td>Nonprofit organization</td>\n",
              "      <td>2009</td>\n",
              "    </tr>\n",
              "    <tr>\n",
              "      <th>4</th>\n",
              "      <td>5</td>\n",
              "      <td>penrose hospital</td>\n",
              "      <td>2009-09-28</td>\n",
              "      <td>175.0</td>\n",
              "      <td>PHYS</td>\n",
              "      <td>MED</td>\n",
              "      <td>Nonprofit organization</td>\n",
              "      <td>2009</td>\n",
              "    </tr>\n",
              "  </tbody>\n",
              "</table>\n",
              "</div>"
            ],
            "text/plain": [
              "   Unnamed: 0                        Company  ... Gather.Information.Source  year\n",
              "0           1  bullitt county public schools  ...    Nonprofit organization  2009\n",
              "1           2  roane state community college  ...    Nonprofit organization  2009\n",
              "2           3                 halifax health  ...    Nonprofit organization  2009\n",
              "3           4      suffolk community college  ...    Nonprofit organization  2009\n",
              "4           5               penrose hospital  ...    Nonprofit organization  2009\n",
              "\n",
              "[5 rows x 8 columns]"
            ]
          },
          "metadata": {
            "tags": []
          },
          "execution_count": 15
        }
      ]
    },
    {
      "cell_type": "code",
      "metadata": {
        "colab": {
          "base_uri": "https://localhost:8080/"
        },
        "id": "CUvyrS-HoHC6",
        "outputId": "1da76460-ba32-460a-dad0-e3c4406183c0"
      },
      "source": [
        "# Nombre total de valeurs manquantes pour chaque caractéristique\n",
        "print(df.isnull().sum())"
      ],
      "execution_count": null,
      "outputs": [
        {
          "output_type": "stream",
          "text": [
            "Company                      0\n",
            "Date.Made.Public             0\n",
            "Total.Records                0\n",
            "Type.of.breach               0\n",
            "Type.of.organization         0\n",
            "Gather.Information.Source    0\n",
            "year                         0\n",
            "dtype: int64\n"
          ],
          "name": "stdout"
        }
      ]
    },
    {
      "cell_type": "code",
      "metadata": {
        "id": "VPc2Fz-vwOom"
      },
      "source": [
        "categ = [\"Type.of.organization\", \"Type.of.breach\", \"Gather.Information.Source\"]\n",
        " # One Hot Encoding conversion\n",
        "df1 = pd.get_dummies(df, columns=categ)"
      ],
      "execution_count": null,
      "outputs": []
    },
    {
      "cell_type": "code",
      "metadata": {
        "id": "Z2Y01TNIQwma"
      },
      "source": [
        "df.to_csv('donneesencoder',sep='\\t')"
      ],
      "execution_count": null,
      "outputs": []
    },
    {
      "cell_type": "code",
      "metadata": {
        "id": "9JIsa5rk0q_e"
      },
      "source": [
        "from sklearn.preprocessing import LabelEncoder\n",
        "from sklearn.preprocessing import MinMaxScaler"
      ],
      "execution_count": null,
      "outputs": []
    },
    {
      "cell_type": "code",
      "metadata": {
        "colab": {
          "base_uri": "https://localhost:8080/",
          "height": 434
        },
        "id": "ho60rXaTUUK0",
        "outputId": "0da0c6e7-de44-4ce5-bf33-5e82ea2e8de1"
      },
      "source": [
        "df1.head()"
      ],
      "execution_count": null,
      "outputs": [
        {
          "output_type": "execute_result",
          "data": {
            "text/html": [
              "<div>\n",
              "<style scoped>\n",
              "    .dataframe tbody tr th:only-of-type {\n",
              "        vertical-align: middle;\n",
              "    }\n",
              "\n",
              "    .dataframe tbody tr th {\n",
              "        vertical-align: top;\n",
              "    }\n",
              "\n",
              "    .dataframe thead th {\n",
              "        text-align: right;\n",
              "    }\n",
              "</style>\n",
              "<table border=\"1\" class=\"dataframe\">\n",
              "  <thead>\n",
              "    <tr style=\"text-align: right;\">\n",
              "      <th></th>\n",
              "      <th>Unnamed: 0</th>\n",
              "      <th>Unnamed: 0.1</th>\n",
              "      <th>Company</th>\n",
              "      <th>Date.Made.Public</th>\n",
              "      <th>Total.Records</th>\n",
              "      <th>year</th>\n",
              "      <th>Nb_Employees</th>\n",
              "      <th>Amount1</th>\n",
              "      <th>Amount2</th>\n",
              "      <th>Type.of.organization_BSF</th>\n",
              "      <th>Type.of.organization_BSO</th>\n",
              "      <th>Type.of.organization_BSR</th>\n",
              "      <th>Type.of.organization_EDU</th>\n",
              "      <th>Type.of.organization_GOV</th>\n",
              "      <th>Type.of.organization_MED</th>\n",
              "      <th>Type.of.organization_NGO</th>\n",
              "      <th>Type.of.organization_Unknown</th>\n",
              "      <th>Type.of.breach_CARD</th>\n",
              "      <th>Type.of.breach_DISC</th>\n",
              "      <th>Type.of.breach_HACK</th>\n",
              "      <th>Type.of.breach_INSD</th>\n",
              "      <th>Type.of.breach_PORT</th>\n",
              "      <th>Type.of.breach_STAT</th>\n",
              "      <th>Gather.Information.Source_Media</th>\n",
              "      <th>Gather.Information.Source_Nonprofit organization</th>\n",
              "      <th>Gather.Information.Source_US GA: Federal - HIPAA</th>\n",
              "      <th>Gather.Information.Source_US GA: State</th>\n",
              "    </tr>\n",
              "  </thead>\n",
              "  <tbody>\n",
              "    <tr>\n",
              "      <th>0</th>\n",
              "      <td>0</td>\n",
              "      <td>0</td>\n",
              "      <td>bullitt county public schools</td>\n",
              "      <td>2009-10-21</td>\n",
              "      <td>676.0</td>\n",
              "      <td>2009</td>\n",
              "      <td>500</td>\n",
              "      <td>3.062958e+05</td>\n",
              "      <td>5.997271e+05</td>\n",
              "      <td>0</td>\n",
              "      <td>0</td>\n",
              "      <td>0</td>\n",
              "      <td>1</td>\n",
              "      <td>0</td>\n",
              "      <td>0</td>\n",
              "      <td>0</td>\n",
              "      <td>0</td>\n",
              "      <td>0</td>\n",
              "      <td>1</td>\n",
              "      <td>0</td>\n",
              "      <td>0</td>\n",
              "      <td>0</td>\n",
              "      <td>0</td>\n",
              "      <td>0</td>\n",
              "      <td>1</td>\n",
              "      <td>0</td>\n",
              "      <td>0</td>\n",
              "    </tr>\n",
              "    <tr>\n",
              "      <th>1</th>\n",
              "      <td>1</td>\n",
              "      <td>1</td>\n",
              "      <td>roane state community college</td>\n",
              "      <td>2009-10-21</td>\n",
              "      <td>14783.0</td>\n",
              "      <td>2009</td>\n",
              "      <td>2687</td>\n",
              "      <td>3.194487e+06</td>\n",
              "      <td>3.480557e+06</td>\n",
              "      <td>0</td>\n",
              "      <td>0</td>\n",
              "      <td>0</td>\n",
              "      <td>1</td>\n",
              "      <td>0</td>\n",
              "      <td>0</td>\n",
              "      <td>0</td>\n",
              "      <td>0</td>\n",
              "      <td>0</td>\n",
              "      <td>0</td>\n",
              "      <td>0</td>\n",
              "      <td>0</td>\n",
              "      <td>1</td>\n",
              "      <td>0</td>\n",
              "      <td>0</td>\n",
              "      <td>1</td>\n",
              "      <td>0</td>\n",
              "      <td>0</td>\n",
              "    </tr>\n",
              "    <tr>\n",
              "      <th>2</th>\n",
              "      <td>2</td>\n",
              "      <td>2</td>\n",
              "      <td>halifax health</td>\n",
              "      <td>2009-10-15</td>\n",
              "      <td>33000.0</td>\n",
              "      <td>2009</td>\n",
              "      <td>2687</td>\n",
              "      <td>5.881014e+06</td>\n",
              "      <td>5.500942e+06</td>\n",
              "      <td>0</td>\n",
              "      <td>0</td>\n",
              "      <td>0</td>\n",
              "      <td>0</td>\n",
              "      <td>0</td>\n",
              "      <td>1</td>\n",
              "      <td>0</td>\n",
              "      <td>0</td>\n",
              "      <td>0</td>\n",
              "      <td>0</td>\n",
              "      <td>0</td>\n",
              "      <td>0</td>\n",
              "      <td>1</td>\n",
              "      <td>0</td>\n",
              "      <td>0</td>\n",
              "      <td>1</td>\n",
              "      <td>0</td>\n",
              "      <td>0</td>\n",
              "    </tr>\n",
              "    <tr>\n",
              "      <th>3</th>\n",
              "      <td>3</td>\n",
              "      <td>3</td>\n",
              "      <td>suffolk community college</td>\n",
              "      <td>2009-10-04</td>\n",
              "      <td>300.0</td>\n",
              "      <td>2009</td>\n",
              "      <td>10</td>\n",
              "      <td>1.651938e+05</td>\n",
              "      <td>3.774359e+05</td>\n",
              "      <td>0</td>\n",
              "      <td>0</td>\n",
              "      <td>0</td>\n",
              "      <td>1</td>\n",
              "      <td>0</td>\n",
              "      <td>0</td>\n",
              "      <td>0</td>\n",
              "      <td>0</td>\n",
              "      <td>0</td>\n",
              "      <td>1</td>\n",
              "      <td>0</td>\n",
              "      <td>0</td>\n",
              "      <td>0</td>\n",
              "      <td>0</td>\n",
              "      <td>0</td>\n",
              "      <td>1</td>\n",
              "      <td>0</td>\n",
              "      <td>0</td>\n",
              "    </tr>\n",
              "    <tr>\n",
              "      <th>4</th>\n",
              "      <td>4</td>\n",
              "      <td>5</td>\n",
              "      <td>eastern kentucky university</td>\n",
              "      <td>2009-09-23</td>\n",
              "      <td>5045.0</td>\n",
              "      <td>2009</td>\n",
              "      <td>200</td>\n",
              "      <td>1.411095e+06</td>\n",
              "      <td>1.885884e+06</td>\n",
              "      <td>0</td>\n",
              "      <td>0</td>\n",
              "      <td>0</td>\n",
              "      <td>1</td>\n",
              "      <td>0</td>\n",
              "      <td>0</td>\n",
              "      <td>0</td>\n",
              "      <td>0</td>\n",
              "      <td>0</td>\n",
              "      <td>1</td>\n",
              "      <td>0</td>\n",
              "      <td>0</td>\n",
              "      <td>0</td>\n",
              "      <td>0</td>\n",
              "      <td>0</td>\n",
              "      <td>1</td>\n",
              "      <td>0</td>\n",
              "      <td>0</td>\n",
              "    </tr>\n",
              "  </tbody>\n",
              "</table>\n",
              "</div>"
            ],
            "text/plain": [
              "   Unnamed: 0  ...  Gather.Information.Source_US GA: State\n",
              "0           0  ...                                       0\n",
              "1           1  ...                                       0\n",
              "2           2  ...                                       0\n",
              "3           3  ...                                       0\n",
              "4           4  ...                                       0\n",
              "\n",
              "[5 rows x 27 columns]"
            ]
          },
          "metadata": {
            "tags": []
          },
          "execution_count": 6
        }
      ]
    },
    {
      "cell_type": "code",
      "metadata": {
        "id": "ewfKnn5D1hD_"
      },
      "source": [
        "df3 = df1.drop([\"Unnamed: 0\",\"Unnamed: 0.1\",\"Company\", \"Date.Made.Public\",\"Nb_Employees\", \"Amount1\", \"Amount2\"], axis=1)"
      ],
      "execution_count": null,
      "outputs": []
    },
    {
      "cell_type": "code",
      "metadata": {
        "colab": {
          "base_uri": "https://localhost:8080/",
          "height": 434
        },
        "id": "hs8GD4pY1c1F",
        "outputId": "c7c5287a-921c-4886-fe43-a8319c4a1c65"
      },
      "source": [
        "df.head()"
      ],
      "execution_count": null,
      "outputs": [
        {
          "output_type": "execute_result",
          "data": {
            "text/html": [
              "<div>\n",
              "<style scoped>\n",
              "    .dataframe tbody tr th:only-of-type {\n",
              "        vertical-align: middle;\n",
              "    }\n",
              "\n",
              "    .dataframe tbody tr th {\n",
              "        vertical-align: top;\n",
              "    }\n",
              "\n",
              "    .dataframe thead th {\n",
              "        text-align: right;\n",
              "    }\n",
              "</style>\n",
              "<table border=\"1\" class=\"dataframe\">\n",
              "  <thead>\n",
              "    <tr style=\"text-align: right;\">\n",
              "      <th></th>\n",
              "      <th>Unnamed: 0</th>\n",
              "      <th>Unnamed: 0.1</th>\n",
              "      <th>Company</th>\n",
              "      <th>Date.Made.Public</th>\n",
              "      <th>Total.Records</th>\n",
              "      <th>Type.of.breach</th>\n",
              "      <th>Type.of.organization</th>\n",
              "      <th>Gather.Information.Source</th>\n",
              "      <th>year</th>\n",
              "      <th>Nb_Employees</th>\n",
              "      <th>Amount1</th>\n",
              "      <th>Amount2</th>\n",
              "    </tr>\n",
              "  </thead>\n",
              "  <tbody>\n",
              "    <tr>\n",
              "      <th>0</th>\n",
              "      <td>0</td>\n",
              "      <td>0</td>\n",
              "      <td>bullitt county public schools</td>\n",
              "      <td>2009-10-21</td>\n",
              "      <td>676.0</td>\n",
              "      <td>DISC</td>\n",
              "      <td>EDU</td>\n",
              "      <td>Nonprofit organization</td>\n",
              "      <td>2009</td>\n",
              "      <td>500</td>\n",
              "      <td>3.062958e+05</td>\n",
              "      <td>5.997271e+05</td>\n",
              "    </tr>\n",
              "    <tr>\n",
              "      <th>1</th>\n",
              "      <td>1</td>\n",
              "      <td>1</td>\n",
              "      <td>roane state community college</td>\n",
              "      <td>2009-10-21</td>\n",
              "      <td>14783.0</td>\n",
              "      <td>PORT</td>\n",
              "      <td>EDU</td>\n",
              "      <td>Nonprofit organization</td>\n",
              "      <td>2009</td>\n",
              "      <td>2687</td>\n",
              "      <td>3.194487e+06</td>\n",
              "      <td>3.480557e+06</td>\n",
              "    </tr>\n",
              "    <tr>\n",
              "      <th>2</th>\n",
              "      <td>2</td>\n",
              "      <td>2</td>\n",
              "      <td>halifax health</td>\n",
              "      <td>2009-10-15</td>\n",
              "      <td>33000.0</td>\n",
              "      <td>PORT</td>\n",
              "      <td>MED</td>\n",
              "      <td>Nonprofit organization</td>\n",
              "      <td>2009</td>\n",
              "      <td>2687</td>\n",
              "      <td>5.881014e+06</td>\n",
              "      <td>5.500942e+06</td>\n",
              "    </tr>\n",
              "    <tr>\n",
              "      <th>3</th>\n",
              "      <td>3</td>\n",
              "      <td>3</td>\n",
              "      <td>suffolk community college</td>\n",
              "      <td>2009-10-04</td>\n",
              "      <td>300.0</td>\n",
              "      <td>DISC</td>\n",
              "      <td>EDU</td>\n",
              "      <td>Nonprofit organization</td>\n",
              "      <td>2009</td>\n",
              "      <td>10</td>\n",
              "      <td>1.651938e+05</td>\n",
              "      <td>3.774359e+05</td>\n",
              "    </tr>\n",
              "    <tr>\n",
              "      <th>4</th>\n",
              "      <td>4</td>\n",
              "      <td>5</td>\n",
              "      <td>eastern kentucky university</td>\n",
              "      <td>2009-09-23</td>\n",
              "      <td>5045.0</td>\n",
              "      <td>DISC</td>\n",
              "      <td>EDU</td>\n",
              "      <td>Nonprofit organization</td>\n",
              "      <td>2009</td>\n",
              "      <td>200</td>\n",
              "      <td>1.411095e+06</td>\n",
              "      <td>1.885884e+06</td>\n",
              "    </tr>\n",
              "  </tbody>\n",
              "</table>\n",
              "</div>"
            ],
            "text/plain": [
              "   Unnamed: 0  Unnamed: 0.1  ...       Amount1       Amount2\n",
              "0           0             0  ...  3.062958e+05  5.997271e+05\n",
              "1           1             1  ...  3.194487e+06  3.480557e+06\n",
              "2           2             2  ...  5.881014e+06  5.500942e+06\n",
              "3           3             3  ...  1.651938e+05  3.774359e+05\n",
              "4           4             5  ...  1.411095e+06  1.885884e+06\n",
              "\n",
              "[5 rows x 12 columns]"
            ]
          },
          "metadata": {
            "tags": []
          },
          "execution_count": 51
        }
      ]
    },
    {
      "cell_type": "code",
      "metadata": {
        "id": "2J2pWBnp3Y91"
      },
      "source": [
        ""
      ],
      "execution_count": null,
      "outputs": []
    },
    {
      "cell_type": "code",
      "metadata": {
        "id": "vdh9XpvpaD3p"
      },
      "source": [
        "from sklearn.preprocessing import StandardScaler\n",
        "scaler = StandardScaler()"
      ],
      "execution_count": null,
      "outputs": []
    },
    {
      "cell_type": "code",
      "metadata": {
        "id": "gLH_iZ-saW7W"
      },
      "source": [
        "categ = [\"Type.of.organization\", \"Type.of.breach\", \"Gather.Information.Source\"]\n",
        " # One Hot Encoding conversion\n",
        "df3 = pd.get_dummies(df, columns=categ)"
      ],
      "execution_count": null,
      "outputs": []
    },
    {
      "cell_type": "code",
      "metadata": {
        "colab": {
          "base_uri": "https://localhost:8080/",
          "height": 434
        },
        "id": "a_Um06x7449g",
        "outputId": "4e8327fb-681c-4f98-9bbe-134bdd402e8d"
      },
      "source": [
        "df3.head()"
      ],
      "execution_count": null,
      "outputs": [
        {
          "output_type": "execute_result",
          "data": {
            "text/html": [
              "<div>\n",
              "<style scoped>\n",
              "    .dataframe tbody tr th:only-of-type {\n",
              "        vertical-align: middle;\n",
              "    }\n",
              "\n",
              "    .dataframe tbody tr th {\n",
              "        vertical-align: top;\n",
              "    }\n",
              "\n",
              "    .dataframe thead th {\n",
              "        text-align: right;\n",
              "    }\n",
              "</style>\n",
              "<table border=\"1\" class=\"dataframe\">\n",
              "  <thead>\n",
              "    <tr style=\"text-align: right;\">\n",
              "      <th></th>\n",
              "      <th>Unnamed: 0</th>\n",
              "      <th>Unnamed: 0.1</th>\n",
              "      <th>Company</th>\n",
              "      <th>Date.Made.Public</th>\n",
              "      <th>Total.Records</th>\n",
              "      <th>year</th>\n",
              "      <th>Nb_Employees</th>\n",
              "      <th>Amount1</th>\n",
              "      <th>Amount2</th>\n",
              "      <th>Type.of.organization_BSF</th>\n",
              "      <th>Type.of.organization_BSO</th>\n",
              "      <th>Type.of.organization_BSR</th>\n",
              "      <th>Type.of.organization_EDU</th>\n",
              "      <th>Type.of.organization_GOV</th>\n",
              "      <th>Type.of.organization_MED</th>\n",
              "      <th>Type.of.organization_NGO</th>\n",
              "      <th>Type.of.organization_Unknown</th>\n",
              "      <th>Type.of.breach_CARD</th>\n",
              "      <th>Type.of.breach_DISC</th>\n",
              "      <th>Type.of.breach_HACK</th>\n",
              "      <th>Type.of.breach_INSD</th>\n",
              "      <th>Type.of.breach_PORT</th>\n",
              "      <th>Type.of.breach_STAT</th>\n",
              "      <th>Gather.Information.Source_Media</th>\n",
              "      <th>Gather.Information.Source_Nonprofit organization</th>\n",
              "      <th>Gather.Information.Source_US GA: Federal - HIPAA</th>\n",
              "      <th>Gather.Information.Source_US GA: State</th>\n",
              "    </tr>\n",
              "  </thead>\n",
              "  <tbody>\n",
              "    <tr>\n",
              "      <th>0</th>\n",
              "      <td>0</td>\n",
              "      <td>0</td>\n",
              "      <td>bullitt county public schools</td>\n",
              "      <td>2009-10-21</td>\n",
              "      <td>676.0</td>\n",
              "      <td>2009</td>\n",
              "      <td>500</td>\n",
              "      <td>3.062958e+05</td>\n",
              "      <td>5.997271e+05</td>\n",
              "      <td>0</td>\n",
              "      <td>0</td>\n",
              "      <td>0</td>\n",
              "      <td>1</td>\n",
              "      <td>0</td>\n",
              "      <td>0</td>\n",
              "      <td>0</td>\n",
              "      <td>0</td>\n",
              "      <td>0</td>\n",
              "      <td>1</td>\n",
              "      <td>0</td>\n",
              "      <td>0</td>\n",
              "      <td>0</td>\n",
              "      <td>0</td>\n",
              "      <td>0</td>\n",
              "      <td>1</td>\n",
              "      <td>0</td>\n",
              "      <td>0</td>\n",
              "    </tr>\n",
              "    <tr>\n",
              "      <th>1</th>\n",
              "      <td>1</td>\n",
              "      <td>1</td>\n",
              "      <td>roane state community college</td>\n",
              "      <td>2009-10-21</td>\n",
              "      <td>14783.0</td>\n",
              "      <td>2009</td>\n",
              "      <td>2687</td>\n",
              "      <td>3.194487e+06</td>\n",
              "      <td>3.480557e+06</td>\n",
              "      <td>0</td>\n",
              "      <td>0</td>\n",
              "      <td>0</td>\n",
              "      <td>1</td>\n",
              "      <td>0</td>\n",
              "      <td>0</td>\n",
              "      <td>0</td>\n",
              "      <td>0</td>\n",
              "      <td>0</td>\n",
              "      <td>0</td>\n",
              "      <td>0</td>\n",
              "      <td>0</td>\n",
              "      <td>1</td>\n",
              "      <td>0</td>\n",
              "      <td>0</td>\n",
              "      <td>1</td>\n",
              "      <td>0</td>\n",
              "      <td>0</td>\n",
              "    </tr>\n",
              "    <tr>\n",
              "      <th>2</th>\n",
              "      <td>2</td>\n",
              "      <td>2</td>\n",
              "      <td>halifax health</td>\n",
              "      <td>2009-10-15</td>\n",
              "      <td>33000.0</td>\n",
              "      <td>2009</td>\n",
              "      <td>2687</td>\n",
              "      <td>5.881014e+06</td>\n",
              "      <td>5.500942e+06</td>\n",
              "      <td>0</td>\n",
              "      <td>0</td>\n",
              "      <td>0</td>\n",
              "      <td>0</td>\n",
              "      <td>0</td>\n",
              "      <td>1</td>\n",
              "      <td>0</td>\n",
              "      <td>0</td>\n",
              "      <td>0</td>\n",
              "      <td>0</td>\n",
              "      <td>0</td>\n",
              "      <td>0</td>\n",
              "      <td>1</td>\n",
              "      <td>0</td>\n",
              "      <td>0</td>\n",
              "      <td>1</td>\n",
              "      <td>0</td>\n",
              "      <td>0</td>\n",
              "    </tr>\n",
              "    <tr>\n",
              "      <th>3</th>\n",
              "      <td>3</td>\n",
              "      <td>3</td>\n",
              "      <td>suffolk community college</td>\n",
              "      <td>2009-10-04</td>\n",
              "      <td>300.0</td>\n",
              "      <td>2009</td>\n",
              "      <td>10</td>\n",
              "      <td>1.651938e+05</td>\n",
              "      <td>3.774359e+05</td>\n",
              "      <td>0</td>\n",
              "      <td>0</td>\n",
              "      <td>0</td>\n",
              "      <td>1</td>\n",
              "      <td>0</td>\n",
              "      <td>0</td>\n",
              "      <td>0</td>\n",
              "      <td>0</td>\n",
              "      <td>0</td>\n",
              "      <td>1</td>\n",
              "      <td>0</td>\n",
              "      <td>0</td>\n",
              "      <td>0</td>\n",
              "      <td>0</td>\n",
              "      <td>0</td>\n",
              "      <td>1</td>\n",
              "      <td>0</td>\n",
              "      <td>0</td>\n",
              "    </tr>\n",
              "    <tr>\n",
              "      <th>4</th>\n",
              "      <td>4</td>\n",
              "      <td>5</td>\n",
              "      <td>eastern kentucky university</td>\n",
              "      <td>2009-09-23</td>\n",
              "      <td>5045.0</td>\n",
              "      <td>2009</td>\n",
              "      <td>200</td>\n",
              "      <td>1.411095e+06</td>\n",
              "      <td>1.885884e+06</td>\n",
              "      <td>0</td>\n",
              "      <td>0</td>\n",
              "      <td>0</td>\n",
              "      <td>1</td>\n",
              "      <td>0</td>\n",
              "      <td>0</td>\n",
              "      <td>0</td>\n",
              "      <td>0</td>\n",
              "      <td>0</td>\n",
              "      <td>1</td>\n",
              "      <td>0</td>\n",
              "      <td>0</td>\n",
              "      <td>0</td>\n",
              "      <td>0</td>\n",
              "      <td>0</td>\n",
              "      <td>1</td>\n",
              "      <td>0</td>\n",
              "      <td>0</td>\n",
              "    </tr>\n",
              "  </tbody>\n",
              "</table>\n",
              "</div>"
            ],
            "text/plain": [
              "   Unnamed: 0  ...  Gather.Information.Source_US GA: State\n",
              "0           0  ...                                       0\n",
              "1           1  ...                                       0\n",
              "2           2  ...                                       0\n",
              "3           3  ...                                       0\n",
              "4           4  ...                                       0\n",
              "\n",
              "[5 rows x 27 columns]"
            ]
          },
          "metadata": {
            "tags": []
          },
          "execution_count": 53
        }
      ]
    }
  ]
}